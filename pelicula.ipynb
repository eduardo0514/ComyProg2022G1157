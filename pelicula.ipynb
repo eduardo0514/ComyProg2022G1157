{
  "nbformat": 4,
  "nbformat_minor": 0,
  "metadata": {
    "colab": {
      "name": "diccionario.ipynb",
      "provenance": [],
      "authorship_tag": "ABX9TyPDp0fMl7IOSpIWOtvclGd7",
      "include_colab_link": true
    },
    "kernelspec": {
      "name": "python3",
      "display_name": "Python 3"
    },
    "language_info": {
      "name": "python"
    }
  },
  "cells": [
    {
      "cell_type": "markdown",
      "metadata": {
        "id": "view-in-github",
        "colab_type": "text"
      },
      "source": [
        "<a href=\"https://colab.research.google.com/github/eduardo0514/ComyProg2022G1157/blob/main/pelicula.ipynb\" target=\"_parent\"><img src=\"https://colab.research.google.com/assets/colab-badge.svg\" alt=\"Open In Colab\"/></a>"
      ]
    },
    {
      "cell_type": "code",
      "metadata": {
        "colab": {
          "base_uri": "https://localhost:8080/"
        },
        "id": "0gVXD3xVJWls",
        "outputId": "1c7285f4-3250-471a-fb5d-10912b678bb7"
      },
      "source": [
        "pelicula = { \"compañia\" : \"marvel\",\n",
        "    \"nombre\" : {\n",
        "        \"nombre de la pelicula\" : \"Ironman\" \n",
        "    \n",
        "},\n",
        "\"personajes \" :{\n",
        "    \"protagonista\" : \"tony stark\",\n",
        "    \"villano\" : \"iron Monger\",\n",
        "    \"secundario\" : \"Pepper Pots\",\n",
        "  },\n",
        "}\n",
        "\n",
        "print(pelicula)"
      ],
      "execution_count": 8,
      "outputs": [
        {
          "output_type": "stream",
          "name": "stdout",
          "text": [
            "{'compañia': 'marvel', 'nombre': {'nombre de la pelicula': 'Ironman'}, 'personajes ': {'protagonista': 'tony stark', 'villano': 'iron Monger', 'secundario': 'Pepper Pots'}}\n"
          ]
        }
      ]
    }
  ]
}