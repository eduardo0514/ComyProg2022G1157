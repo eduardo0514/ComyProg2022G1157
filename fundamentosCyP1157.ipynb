{
  "nbformat": 4,
  "nbformat_minor": 0,
  "metadata": {
    "colab": {
      "name": "fundamentosCyP1157.ipynb",
      "provenance": [],
      "collapsed_sections": [],
      "authorship_tag": "ABX9TyOMdXc/Tt0IVAQoIDLTpL9r",
      "include_colab_link": true
    },
    "kernelspec": {
      "name": "python3",
      "display_name": "Python 3"
    },
    "language_info": {
      "name": "python"
    }
  },
  "cells": [
    {
      "cell_type": "markdown",
      "metadata": {
        "id": "view-in-github",
        "colab_type": "text"
      },
      "source": [
        "<a href=\"https://colab.research.google.com/github/eduardo0514/ComyProg2022G1157/blob/main/fundamentosCyP1157.ipynb\" target=\"_parent\"><img src=\"https://colab.research.google.com/assets/colab-badge.svg\" alt=\"Open In Colab\"/></a>"
      ]
    },
    {
      "cell_type": "markdown",
      "metadata": {
        "id": "Z3C3AnqY7jtD"
      },
      "source": [
        "# Clase del 12 de octubre de 2021"
      ]
    },
    {
      "cell_type": "code",
      "metadata": {
        "colab": {
          "base_uri": "https://localhost:8080/"
        },
        "id": "iPmh8DyGV1Ao",
        "outputId": "932dfd6e-ded0-42fb-c5c6-71dcbac308ba"
      },
      "source": [
        "nombre = \"José\" #tipo de dat String (cadena de caracteres)\n",
        "\n",
        "print(nombre)\n",
        "\n"
      ],
      "execution_count": null,
      "outputs": [
        {
          "output_type": "stream",
          "name": "stdout",
          "text": [
            "José\n"
          ]
        }
      ]
    },
    {
      "cell_type": "markdown",
      "metadata": {
        "id": "qDCF__J4XM1O"
      },
      "source": [
        "#Tipos de dato en Python\n",
        "\n",
        "### Tipos simples\n",
        "- str --> String cadena de caractéres.\n",
        "- int --> Numeros enteros\n",
        "- float --> Numeros con notación de punto flotante\n",
        "- complex --> Numeros complejos\n",
        "- bool --> Boleano (True o Fals)\n",
        "- byte --> 8 bits\n",
        "\n",
        "### Tipos de datos estructurados(compuestos)\n",
        "\n",
        "\n",
        "- list --> Listas (Arreglos en otros leng)\n",
        "- tuple --> Listas no mutables \n",
        "- dict --> diccionarios \n",
        "- set y frozenset --> Conjuntos\n",
        " "
      ]
    },
    {
      "cell_type": "code",
      "metadata": {
        "colab": {
          "base_uri": "https://localhost:8080/"
        },
        "id": "b0oCE1I6aSKM",
        "outputId": "6377d5a3-f0aa-4e61-c9b6-ab9c57172563"
      },
      "source": [
        "import sys\n",
        "\n",
        "edad = 19\n",
        "print(\"Tu edad es:\",edad) # al final de una linea de codigo\n",
        "#este es un comentario de linea simple\n",
        "\n",
        "\"\"\"\n",
        "Comentario de multiple línea\n",
        "En lenguaje C, C++ y Java el comentario de multiple linea es con:\n",
        "/* .... */\n",
        "\n",
        "En lenguaje C, C++ y Java el comentario de multiple linea es con: \n",
        "\n",
        "//\n",
        "\n",
        "Aquí puedes explicar en prosa el segmneto de un codigo para futura referencia\n",
        "\n",
        "\"\"\"\n",
        "# tipos de dato numerico int y float\n",
        "\n",
        "sys.getsizeof(edad) \n",
        "# el tipo de dato INT utiliza diferencia cantidad de bits segun el \n",
        "# leg de prog. por ejemplo en C itiliza 16 bits\n",
        "\n",
        "edad = edad + 1\n",
        "print( edad )\n",
        "\n",
        "estatura = 1.56\n",
        "print( estatura )\n",
        "print( sys.getsizeof(estatura) )\n",
        "estatura = estatura + 0.1\n",
        "print(estatura)\n",
        "print( round(estatura,2) )\n",
        "\n",
        "edad += 1 # edad = edad + 1\n",
        "print( \"Tu edad es:\",edad )\n",
        "\n",
        "edad -= 1 # edad = edad - 1\n",
        "print( \"Tu edad es:\",edad )\n",
        "\n",
        "edad += 1 # vuelve a 21\n",
        "edad /= 2 # edad = edad / 2\n",
        "print( \"La mitad de tu edad es:\",edad )\n",
        "\n",
        "\n",
        "edad = 21\n",
        "# volver a calcular la mitad de la edad pero solo dejar \n",
        "# parte entera\n",
        "edad = edad // 2\n",
        "print( \"La mitad de tu edad es:\",edad )\n",
        "\n",
        "# En la mayoria de los leng no permite operaciones entre\n",
        "# diferencia tipos de datos, en python no es el caso\n",
        "\n",
        "numero = edad / 2.0\n",
        "print(numero )\n",
        "\n",
        "numero *= 3\n",
        "print( numero )\n",
        "\n",
        "numero = 5.0\n",
        "numero = numero ** 2\n",
        "print( numero )\n",
        "\n",
        "# operador modulo\n",
        "numero = 21\n",
        "print( numero / 2 )\n",
        "print( numero // 2 )\n",
        "\n",
        "# el operador modulo  da como resultado el residuo de una division entera\n",
        "print ( numero % 2)\n",
        "\n",
        "numero = 24\n",
        "print(\"residuo de 24 / 5:\", numero % 5 )\n",
        "\n",
        "# operadores relacionales (logicos)\n",
        "print( numero % 2 ==0)\n",
        "\n",
        "#diferencia\n",
        "print(\"24 es diferente de 23\", numero !=23 )\n",
        "print(\"24 es mayor que 23\", numero > 23 )\n",
        "print(\"24 es menor que 23\", numero < 23 )\n",
        "\n",
        "print(\"24 es mayor o igual que 24\", numero >= 24 )\n",
        "print(\"24 es menor o igual que 23\", numero <= 23 )\n",
        "\n",
        "print(\"el tipo de dato de la var  numero es:\", type(numero) )\n",
        "print(\"el tipo de dato de la var  numero es:\", type(numero/2.0) )"
      ],
      "execution_count": null,
      "outputs": [
        {
          "output_type": "stream",
          "name": "stdout",
          "text": [
            "Tu edad es: 19\n",
            "20\n",
            "1.56\n",
            "24\n",
            "1.6600000000000001\n",
            "1.66\n",
            "Tu edad es: 21\n",
            "Tu edad es: 20\n",
            "La mitad de tu edad es: 10.5\n",
            "La mitad de tu edad es: 10\n",
            "5.0\n",
            "15.0\n",
            "25.0\n",
            "10.5\n",
            "10\n",
            "1\n",
            "residuo de 24 / 5: 4\n",
            "True\n",
            "24 es diferente de 23 True\n",
            "24 es mayor que 23 True\n",
            "24 es menor que 23 False\n",
            "24 es mayor o igual que 24 True\n",
            "24 es menor o igual que 23 False\n",
            "el tipo de dato de la var  numero es: <class 'int'>\n",
            "el tipo de dato de la var  numero es: <class 'float'>\n"
          ]
        }
      ]
    },
    {
      "cell_type": "markdown",
      "metadata": {
        "id": "BsV8jOy_phsp"
      },
      "source": [
        "# tipo de dato string (str) en Python \n",
        "\n",
        "- se maneja como un arreglo ( tipo de dato compuesto) \n",
        "- se puede acceder a los elementos de el string por medio del ïndice del caracter. \n",
        "- Mutable \n",
        "- Tiene métodos útiles (potentes)\n",
        "- slicing"
      ]
    },
    {
      "cell_type": "code",
      "metadata": {
        "colab": {
          "base_uri": "https://localhost:8080/"
        },
        "id": "pDquR7S5qFO7",
        "outputId": "d61ecb5b-ec62-4967-d400-7fafd26353aa"
      },
      "source": [
        "nombre = 'José' # una comilla es parauna frase simple\n",
        "carrera = \"Ingenieria en computación\" # doble comilla es para \n",
        "frase = \"\"\" El conocimiento \n",
        "me persigue, ......\n",
        "pero\n",
        "yo soy más rapido\n",
        "\"\"\"\n",
        "print( nombre )\n",
        "print( carrera )\n",
        "print( frase )\n",
        "\n",
        "# La funcion type de Puthon te devuelve el tipo de dato de una variable (o e)\n",
        "print(type(nombre) )\n",
        "\n",
        "paterno = str( \"Perez\" )\n",
        "print( paterno )\n"
      ],
      "execution_count": null,
      "outputs": [
        {
          "output_type": "stream",
          "name": "stdout",
          "text": [
            "José\n",
            "Ingenieria en computación\n",
            " El conocimiento \n",
            "me persigue, ......\n",
            "pero\n",
            "yo soy más rapido\n",
            "\n",
            "<class 'str'>\n",
            "Perez\n"
          ]
        }
      ]
    },
    {
      "cell_type": "markdown",
      "metadata": {
        "id": "u_H79BpIpYkz"
      },
      "source": [
        "# Clase del 14 de octubre de 2021\n",
        "\n",
        "#Una clase (claas) es un tipo de dato compuesto\n"
      ]
    },
    {
      "cell_type": "code",
      "metadata": {
        "colab": {
          "base_uri": "https://localhost:8080/"
        },
        "id": "3vP4eHWlpgaI",
        "outputId": "3849c70f-dcb6-4390-cdd0-2d8902d5dbf7"
      },
      "source": [
        "carrera = 'Ingenieria en computación'\n",
        "print( carrera )\n",
        "print (carrera[2] )"
      ],
      "execution_count": 2,
      "outputs": [
        {
          "output_type": "stream",
          "name": "stdout",
          "text": [
            "Ingenieria en computación\n",
            "g\n"
          ]
        }
      ]
    },
    {
      "cell_type": "markdown",
      "metadata": {
        "id": "sa1YsBT5rqv7"
      },
      "source": [
        "#A la sintaxis escrita para elegir un elemento de un grupo de datos se le llama selector\n",
        "\n",
        "En el caso de strings y listas (lst) se usan los caracteres  '[ ' y ']'\n",
        "\n",
        "1. En todos los lenguajes los arreglos inician en 0.\n",
        "2. en python no existe como tal el tipo de dato arreglo, el concepto es sustituido por las listas.\n",
        "3. Los strings se comportan como un arreglo en la mayoria de los lenguajes. \n",
        "4. En python se aceptan en idexado negativo, en otros lenguajes NO. "
      ]
    },
    {
      "cell_type": "code",
      "metadata": {
        "colab": {
          "base_uri": "https://localhost:8080/"
        },
        "id": "vAOPVSBxskfd",
        "outputId": "328b83b7-2f74-4ed3-a58c-29dc32db4c88"
      },
      "source": [
        "carrera = 'Ingenieria en computación'\n",
        "print(carrera[8])\n",
        "print(carrera[24])\n",
        "print(carrera[-1])\n",
        "print(carrera[-25])\n",
        "\n",
        "\n",
        "# Adelantando el tema cuclo FOR\n",
        "for letra in carrera:\n",
        "  print(\"-->\",letra,\"<--\")\n"
      ],
      "execution_count": 15,
      "outputs": [
        {
          "output_type": "stream",
          "name": "stdout",
          "text": [
            "i\n",
            "n\n",
            "n\n",
            "I\n",
            "--> I <--\n",
            "--> n <--\n",
            "--> g <--\n",
            "--> e <--\n",
            "--> n <--\n",
            "--> i <--\n",
            "--> e <--\n",
            "--> r <--\n",
            "--> i <--\n",
            "--> a <--\n",
            "-->   <--\n",
            "--> e <--\n",
            "--> n <--\n",
            "-->   <--\n",
            "--> c <--\n",
            "--> o <--\n",
            "--> m <--\n",
            "--> p <--\n",
            "--> u <--\n",
            "--> t <--\n",
            "--> a <--\n",
            "--> c <--\n",
            "--> i <--\n",
            "--> ó <--\n",
            "--> n <--\n"
          ]
        }
      ]
    },
    {
      "cell_type": "markdown",
      "metadata": {
        "id": "8gclTmw7u6Ih"
      },
      "source": [
        "#Slicing (rebanado) de cadenas\n",
        "\n",
        "Permite sellecionar subcadenas con el operador \n",
        "[ inicio : stop : incremento]\n",
        "El stop no se incluye, es por eso que debemos agregar una posición extra\n",
        "\n",
        "### Slicing y valores por defecto \n",
        "Inicio por defecto siempre será 0\n",
        "\n",
        "stop: tamaño del arreglo (indexado positivo)\n",
        "       0 (en un indexado negativo)\n",
        "\n",
        "Incremento: es 1 (indexado positivo) "
      ]
    },
    {
      "cell_type": "code",
      "metadata": {
        "colab": {
          "base_uri": "https://localhost:8080/"
        },
        "id": "mXxgb5LWu50T",
        "outputId": "f39ba5ab-6c3d-48b4-95f2-9a520671a4d3"
      },
      "source": [
        "carrera = 'Ingenieria en computación'\n",
        "print( carrera[0:10:1] )\n",
        "print( carrera[14:25:1] )\n",
        "# lo mismo pero con indexado negativo ??\n",
        "print( carrera[ -11 : -1 : 1 ])\n",
        "print( carrera[:10:] )\n",
        "print( carrera[14:25:])\n",
        "print( carrera[ -11 :  : 1])\n",
        "\n",
        "#Solución previa\n",
        "print(\"--------\")\n",
        "print( carrera[-11 : -1 : 1])\n",
        "print( carrera[-11 :  : 1])\n",
        "\n",
        "# un ejercicio mas para ver incremento\n",
        "print( carrera[0:10:2] )\n",
        "print( carrera[-1:-12:-2] )\n",
        "print()"
      ],
      "execution_count": 17,
      "outputs": [
        {
          "output_type": "stream",
          "name": "stdout",
          "text": [
            "Ingenieria\n",
            "computación\n",
            "computació\n",
            "Ingenieria\n",
            "computación\n",
            "computación\n",
            "--------\n",
            "computació\n",
            "computación\n",
            "Ignei\n",
            "niaumc\n"
          ]
        }
      ]
    },
    {
      "cell_type": "markdown",
      "metadata": {
        "id": "SIFWXXsU0pkb"
      },
      "source": [
        "#String y sus métodos\n",
        "\n",
        "## dir() y help() funciones para obtener ayuda del lenguaje Python\n",
        "\n",
        "###dir muestra las funciones de un tipo de dato como resumen.\n",
        "\n",
        "###help muestra la misma ayuda pero a detalle.\n",
        "\n",
        "Metodo que incian con doble guion bajo son privados de uso interno de la clase y no deberiamos usarlos.\n",
        "\n",
        "Todos los demas son para uso exterior(usuario)\n"
      ]
    },
    {
      "cell_type": "code",
      "metadata": {
        "colab": {
          "base_uri": "https://localhost:8080/"
        },
        "id": "s1uh_xfJ1Fcq",
        "outputId": "b0b9b461-3fc0-461d-8f9d-51b0489b262b"
      },
      "source": [
        "frutas = \" limon , fresa, manzana , aguacate\"\n",
        "nombre = \"jose\"\n",
        "print( frutas)\n",
        "\n",
        "\n",
        "print( nombre.capitalize() ) \n",
        "print( nombre.upper() )\n",
        "print(frutas.replace( 'a' , '4' ).replace( 'e' , '3' ).upper() )\n",
        "frutas = frutas.replace( 'a' , '4' ).replace( 'e' , '3' ).upper()\n",
        "print(frutas)\n",
        "print(\".-.-.-.-.-.-.-.-.-.-.-.-.-.-.-.-.-\")\n",
        "frutas = \" Limon , fresa, manzana , aguacate \"\n",
        "print( frutas.strip() )\n",
        "print( frutas.split(',') )\n",
        "print(frutas.index(\"n\"))"
      ],
      "execution_count": 39,
      "outputs": [
        {
          "output_type": "stream",
          "name": "stdout",
          "text": [
            " limon , fresa, manzana , aguacate\n",
            "Jose\n",
            "JOSE\n",
            " LIMON , FR3S4, M4NZ4N4 , 4GU4C4T3\n",
            " LIMON , FR3S4, M4NZ4N4 , 4GU4C4T3\n",
            ".-.-.-.-.-.-.-.-.-.-.-.-.-.-.-.-.-\n",
            "Limon , fresa, manzana , aguacate\n",
            "[' Limon ', ' fresa', ' manzana ', ' aguacate ']\n",
            "5\n"
          ]
        }
      ]
    },
    {
      "cell_type": "markdown",
      "metadata": {
        "id": "ap4THiR08YM1"
      },
      "source": [
        "#String y caracteres de escape\n",
        "\n",
        "- \\\"  --> \"\n",
        "- \\'  --> '\n",
        "- \\n  --> Salto de linea (tecla enter)\n",
        "- \\t  --> tabulador espacios a la izq.\n",
        "- \\uxxxx --> Caracteres unicode\n",
        "- \\Uxxxxxxxx --> unicode extendido"
      ]
    },
    {
      "cell_type": "code",
      "metadata": {
        "colab": {
          "base_uri": "https://localhost:8080/"
        },
        "id": "H8Rnsw9I825n",
        "outputId": "1e8c8919-cab7-47c5-e9cd-f3c8d103eef5"
      },
      "source": [
        "print(\" \\\"Jose\\\" \")\n",
        "nombre = \" \\\"Jose\\\" \"\n",
        "print( nombre)\n",
        "carrera = 'Ingenieria \\n\\ten \\n\\t\\tComputación'\n",
        "print( carrera )"
      ],
      "execution_count": 46,
      "outputs": [
        {
          "output_type": "stream",
          "name": "stdout",
          "text": [
            " \"Jose\" \n",
            " \"Jose\" \n",
            "Ingenieria \n",
            "\ten \n",
            "\t\tComputación\n"
          ]
        }
      ]
    }
  ]
}