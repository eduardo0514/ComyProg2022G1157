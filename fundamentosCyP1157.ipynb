{
  "nbformat": 4,
  "nbformat_minor": 0,
  "metadata": {
    "colab": {
      "name": "fundamentosCyP1157.ipynb",
      "provenance": [],
      "collapsed_sections": [],
      "authorship_tag": "ABX9TyOHOJIoKgIxxY20Jt4RK7xB",
      "include_colab_link": true
    },
    "kernelspec": {
      "name": "python3",
      "display_name": "Python 3"
    },
    "language_info": {
      "name": "python"
    }
  },
  "cells": [
    {
      "cell_type": "markdown",
      "metadata": {
        "id": "view-in-github",
        "colab_type": "text"
      },
      "source": [
        "<a href=\"https://colab.research.google.com/github/eduardo0514/ComyProg2022G1157/blob/main/fundamentosCyP1157.ipynb\" target=\"_parent\"><img src=\"https://colab.research.google.com/assets/colab-badge.svg\" alt=\"Open In Colab\"/></a>"
      ]
    },
    {
      "cell_type": "markdown",
      "metadata": {
        "id": "Z3C3AnqY7jtD"
      },
      "source": [
        "# 12 de octubre de 2021"
      ]
    },
    {
      "cell_type": "code",
      "metadata": {
        "colab": {
          "base_uri": "https://localhost:8080/"
        },
        "id": "iPmh8DyGV1Ao",
        "outputId": "932dfd6e-ded0-42fb-c5c6-71dcbac308ba"
      },
      "source": [
        "nombre = \"José\" #tipo de dat String (cadena de caracteres)\n",
        "\n",
        "print(nombre)\n",
        "\n"
      ],
      "execution_count": 38,
      "outputs": [
        {
          "output_type": "stream",
          "name": "stdout",
          "text": [
            "José\n"
          ]
        }
      ]
    },
    {
      "cell_type": "markdown",
      "metadata": {
        "id": "qDCF__J4XM1O"
      },
      "source": [
        "#Tipos de dato en Python\n",
        "\n",
        "### Tipos simples\n",
        "- str --> String cadena de caractéres.\n",
        "- int --> Numeros enteros\n",
        "- float --> Numeros con notación de punto flotante\n",
        "- complex --> Numeros complejos\n",
        "- bool --> Boleano (True o Fals)\n",
        "- byte --> 8 bits\n",
        "\n",
        "### Tipos de datos estructurados(compuestos)\n",
        "\n",
        "\n",
        "- list --> Listas (Arreglos en otros leng)\n",
        "- tuple --> Listas no mutables \n",
        "- dict --> diccionarios \n",
        "- set y frozenset --> Conjuntos\n",
        " "
      ]
    },
    {
      "cell_type": "code",
      "metadata": {
        "colab": {
          "base_uri": "https://localhost:8080/"
        },
        "id": "b0oCE1I6aSKM",
        "outputId": "6377d5a3-f0aa-4e61-c9b6-ab9c57172563"
      },
      "source": [
        "import sys\n",
        "\n",
        "edad = 19\n",
        "print(\"Tu edad es:\",edad) # al final de una linea de codigo\n",
        "#este es un comentario de linea simple\n",
        "\n",
        "\"\"\"\n",
        "Comentario de multiple línea\n",
        "En lenguaje C, C++ y Java el comentario de multiple linea es con:\n",
        "/* .... */\n",
        "\n",
        "En lenguaje C, C++ y Java el comentario de multiple linea es con: \n",
        "\n",
        "//\n",
        "\n",
        "Aquí puedes explicar en prosa el segmneto de un codigo para futura referencia\n",
        "\n",
        "\"\"\"\n",
        "# tipos de dato numerico int y float\n",
        "\n",
        "sys.getsizeof(edad) \n",
        "# el tipo de dato INT utiliza diferencia cantidad de bits segun el \n",
        "# leg de prog. por ejemplo en C itiliza 16 bits\n",
        "\n",
        "edad = edad + 1\n",
        "print( edad )\n",
        "\n",
        "estatura = 1.56\n",
        "print( estatura )\n",
        "print( sys.getsizeof(estatura) )\n",
        "estatura = estatura + 0.1\n",
        "print(estatura)\n",
        "print( round(estatura,2) )\n",
        "\n",
        "edad += 1 # edad = edad + 1\n",
        "print( \"Tu edad es:\",edad )\n",
        "\n",
        "edad -= 1 # edad = edad - 1\n",
        "print( \"Tu edad es:\",edad )\n",
        "\n",
        "edad += 1 # vuelve a 21\n",
        "edad /= 2 # edad = edad / 2\n",
        "print( \"La mitad de tu edad es:\",edad )\n",
        "\n",
        "\n",
        "edad = 21\n",
        "# volver a calcular la mitad de la edad pero solo dejar \n",
        "# parte entera\n",
        "edad = edad // 2\n",
        "print( \"La mitad de tu edad es:\",edad )\n",
        "\n",
        "# En la mayoria de los leng no permite operaciones entre\n",
        "# diferencia tipos de datos, en python no es el caso\n",
        "\n",
        "numero = edad / 2.0\n",
        "print(numero )\n",
        "\n",
        "numero *= 3\n",
        "print( numero )\n",
        "\n",
        "numero = 5.0\n",
        "numero = numero ** 2\n",
        "print( numero )\n",
        "\n",
        "# operador modulo\n",
        "numero = 21\n",
        "print( numero / 2 )\n",
        "print( numero // 2 )\n",
        "\n",
        "# el operador modulo  da como resultado el residuo de una division entera\n",
        "print ( numero % 2)\n",
        "\n",
        "numero = 24\n",
        "print(\"residuo de 24 / 5:\", numero % 5 )\n",
        "\n",
        "# operadores relacionales (logicos)\n",
        "print( numero % 2 ==0)\n",
        "\n",
        "#diferencia\n",
        "print(\"24 es diferente de 23\", numero !=23 )\n",
        "print(\"24 es mayor que 23\", numero > 23 )\n",
        "print(\"24 es menor que 23\", numero < 23 )\n",
        "\n",
        "print(\"24 es mayor o igual que 24\", numero >= 24 )\n",
        "print(\"24 es menor o igual que 23\", numero <= 23 )\n",
        "\n",
        "print(\"el tipo de dato de la var  numero es:\", type(numero) )\n",
        "print(\"el tipo de dato de la var  numero es:\", type(numero/2.0) )"
      ],
      "execution_count": 34,
      "outputs": [
        {
          "output_type": "stream",
          "name": "stdout",
          "text": [
            "Tu edad es: 19\n",
            "20\n",
            "1.56\n",
            "24\n",
            "1.6600000000000001\n",
            "1.66\n",
            "Tu edad es: 21\n",
            "Tu edad es: 20\n",
            "La mitad de tu edad es: 10.5\n",
            "La mitad de tu edad es: 10\n",
            "5.0\n",
            "15.0\n",
            "25.0\n",
            "10.5\n",
            "10\n",
            "1\n",
            "residuo de 24 / 5: 4\n",
            "True\n",
            "24 es diferente de 23 True\n",
            "24 es mayor que 23 True\n",
            "24 es menor que 23 False\n",
            "24 es mayor o igual que 24 True\n",
            "24 es menor o igual que 23 False\n",
            "el tipo de dato de la var  numero es: <class 'int'>\n",
            "el tipo de dato de la var  numero es: <class 'float'>\n"
          ]
        }
      ]
    },
    {
      "cell_type": "markdown",
      "metadata": {
        "id": "BsV8jOy_phsp"
      },
      "source": [
        "# tipo de dato string (str) en Python \n",
        "\n",
        "- se maneja como un arreglo ( tipo de dato compuesto) \n",
        "- se puede acceder a los elementos de el string por medio del ïndice del caracter. \n",
        "- Mutable \n",
        "- Tiene métodos útiles (potentes)\n",
        "- slicing"
      ]
    },
    {
      "cell_type": "code",
      "metadata": {
        "colab": {
          "base_uri": "https://localhost:8080/"
        },
        "id": "pDquR7S5qFO7",
        "outputId": "d61ecb5b-ec62-4967-d400-7fafd26353aa"
      },
      "source": [
        "nombre = 'José' # una comilla es parauna frase simple\n",
        "carrera = \"Ingenieria en computación\" # doble comilla es para \n",
        "frase = \"\"\" El conocimiento \n",
        "me persigue, ......\n",
        "pero\n",
        "yo soy más rapido\n",
        "\"\"\"\n",
        "print( nombre )\n",
        "print( carrera )\n",
        "print( frase )\n",
        "\n",
        "# La funcion type de Puthon te devuelve el tipo de dato de una variable (o e)\n",
        "print(type(nombre) )\n",
        "\n",
        "paterno = str( \"Perez\" )\n",
        "print( paterno )\n"
      ],
      "execution_count": 39,
      "outputs": [
        {
          "output_type": "stream",
          "name": "stdout",
          "text": [
            "José\n",
            "Ingenieria en computación\n",
            " El conocimiento \n",
            "me persigue, ......\n",
            "pero\n",
            "yo soy más rapido\n",
            "\n",
            "<class 'str'>\n",
            "Perez\n"
          ]
        }
      ]
    }
  ]
}