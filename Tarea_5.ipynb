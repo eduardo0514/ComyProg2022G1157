{
  "nbformat": 4,
  "nbformat_minor": 0,
  "metadata": {
    "colab": {
      "name": "Tarea 5.ipynb",
      "provenance": [],
      "authorship_tag": "ABX9TyM0PiKHHEjaflzJReKNA0Be",
      "include_colab_link": true
    },
    "kernelspec": {
      "name": "python3",
      "display_name": "Python 3"
    },
    "language_info": {
      "name": "python"
    }
  },
  "cells": [
    {
      "cell_type": "markdown",
      "metadata": {
        "id": "view-in-github",
        "colab_type": "text"
      },
      "source": [
        "<a href=\"https://colab.research.google.com/github/eduardo0514/ComyProg2022G1157/blob/main/Tarea_5.ipynb\" target=\"_parent\"><img src=\"https://colab.research.google.com/assets/colab-badge.svg\" alt=\"Open In Colab\"/></a>"
      ]
    },
    {
      "cell_type": "markdown",
      "metadata": {
        "id": "wxkl1MIm6n3h"
      },
      "source": [
        "# Primer programa\n",
        "\n",
        "- Programa que pida dos números enteros"
      ]
    },
    {
      "cell_type": "code",
      "metadata": {
        "colab": {
          "base_uri": "https://localhost:8080/"
        },
        "id": "jCtBcCJl6Ra_",
        "outputId": "79f26438-5800-49c8-845e-089f6b69f8e1"
      },
      "source": [
        "numero = int(input(\"Dame un numero: \"))\n",
        "numero2 = int(input(\"Dame otro numero: \"))\n",
        "print(f\"tecleaste {numero} \")\n",
        "print(f\"tecleaste {numero2} \")\n",
        "\n",
        "if numero > numero2 :  \n",
        "    print(f\"{ numero } Es el numero mayor\", f\"{ numero2} es el numero menor \")\n",
        "        \n",
        "if numero < numero2 :\n",
        "    print(f\"{numero} Es el numero menor \", f\"{numero2} es el numero mayor\")"
      ],
      "execution_count": 30,
      "outputs": [
        {
          "output_type": "stream",
          "name": "stdout",
          "text": [
            "Dame un numero: 40\n",
            "Dame otro numero: 30\n",
            "tecleaste 40 \n",
            "tecleaste 30 \n",
            "40 Es el numero mayor 30 es el numero menor \n"
          ]
        }
      ]
    },
    {
      "cell_type": "markdown",
      "metadata": {
        "id": "HSgCjuR360tV"
      },
      "source": [
        "# Segundo Programa\n",
        "\n",
        "- Programa que solicite 3 números enteros diferentes entre sí y que imprima cuál de los 3 es el mayor"
      ]
    },
    {
      "cell_type": "code",
      "metadata": {
        "colab": {
          "base_uri": "https://localhost:8080/"
        },
        "id": "YU-X-W467ILG",
        "outputId": "03b8db76-0815-40e5-aa9c-b085eee54ea2"
      },
      "source": [
        "numero = int(input(\"Dame un numero: \"))\n",
        "numero2 = int(input(\"Dame otro numero: \"))\n",
        "numero3 = int(input(\"Dame un ultimo numero: \"))\n",
        "print(f\"tecleaste {numero} numero \")\n",
        "print(f\"tecleaste {numero2} numero \")\n",
        "print(f\"tecleaste {numero3} numero \")\n",
        "\n",
        "if numero > numero2 and numero2 > numero3 and numero3 < numero2:\n",
        "    print(f\"{numero} es el numero mayor\")\n",
        "elif numero > numero3 and numero3 > numero2 and numero2 < numero3:\n",
        "    print(f\"{numero} es el numero mayor\")\n",
        "elif numero2 > numero and numero > numero3 and numero3 < numero2:\n",
        "    print(f\"{numero2} es el numero mayor\")\n",
        "elif numero2 > numero3 and numero3 > numero and numero < numero3:\n",
        "    print(f\"{numero2} es el numero mayor\")\n",
        "elif numero3 > numero and numero > numero2 and numero2 < numero:\n",
        "    print(f\"{numero3} es el numero mayor\")\n",
        "elif numero3 > numero2 and numero2 > numero and numero < numero2:\n",
        "    print(f\"{numero3} es el numero mayor\")\n",
        "else: \n",
        "    print(\"Esto no es valido, deben ser numeros diferentes\")"
      ],
      "execution_count": 45,
      "outputs": [
        {
          "output_type": "stream",
          "name": "stdout",
          "text": [
            "Dame un numero: 30\n",
            "Dame otro numero: 40\n",
            "Dame un ultimo numero: 50\n",
            "tecleaste 30 numero \n",
            "tecleaste 40 numero \n",
            "tecleaste 50 numero \n",
            "50 es el numero mayor\n"
          ]
        }
      ]
    },
    {
      "cell_type": "markdown",
      "metadata": {
        "id": "qmlQwrEmUoHz"
      },
      "source": [
        "# Tercer Programa\n",
        "\n",
        "Programa que solicite 3 numeros enteros diferetes entre si y que imprima cual es el menor"
      ]
    },
    {
      "cell_type": "code",
      "metadata": {
        "colab": {
          "base_uri": "https://localhost:8080/"
        },
        "id": "8e4oxm1lUluc",
        "outputId": "ec47b7c2-1109-4c27-e72a-9f345140b8c6"
      },
      "source": [
        "numero = int(input(\"Dame un numero: \"))\n",
        "numero2 = int(input(\"Dame otro numero: \"))\n",
        "numero3 = int(input(\"Dame un ultimo numero: \"))\n",
        "print(f\"tecleaste {numero} numero \")\n",
        "print(f\"tecleaste {numero2} numero \")\n",
        "print(f\"tecleaste {numero3} numero \")\n",
        "\n",
        "if numero < numero2 and numero2 < numero3 and numero3 > numero2:\n",
        "    print(f\"{numero} es el numero menor\")\n",
        "elif numero < numero3 and numero3 < numero2 and numero2 > numero3:\n",
        "    print(f\"{numero} es el numero menor\")\n",
        "elif numero2 < numero and numero < numero3 and numero3 > numero2:\n",
        "    print(f\"{numero2} es el numero menor\")\n",
        "elif numero2 < numero3 and numero3 < numero and numero > numero3:\n",
        "    print(f\"{numero2} es el numero menor\")\n",
        "elif numero3 < numero and numero < numero2 and numero2 > numero:\n",
        "    print(f\"{numero3} es el numero menor\")\n",
        "elif numero3 < numero2 and numero2 < numero and numero > numero2:\n",
        "    print(f\"{numero3} es el numero menor\")\n",
        "else: \n",
        "    print(\"Esto no es valido, deben ser numeros diferentes\")"
      ],
      "execution_count": 44,
      "outputs": [
        {
          "output_type": "stream",
          "name": "stdout",
          "text": [
            "Dame un numero: 30\n",
            "Dame otro numero: 50\n",
            "Dame un ultimo numero: 10\n",
            "tecleaste 30 numero \n",
            "tecleaste 50 numero \n",
            "tecleaste 10 numero \n",
            "10 es el numero menor\n"
          ]
        }
      ]
    },
    {
      "cell_type": "markdown",
      "metadata": {
        "id": "-nC5e0Ind7_e"
      },
      "source": [
        "# Cuarto Programa \n",
        "\n",
        "Programa que solicita 4 números enteros diferentes entre sí y que imprima a la salida cuál de ellos es el menor y cuál de ellos es el mayor\n"
      ]
    },
    {
      "cell_type": "code",
      "metadata": {
        "colab": {
          "base_uri": "https://localhost:8080/"
        },
        "id": "FlWKYBiad7hn",
        "outputId": "b2a6d29d-4a17-4ca7-d88b-a2bab6998279"
      },
      "source": [
        "numero = int(input(\"Dame un numero: \"))\n",
        "numero2 = int(input(\"Dame otro numero: \"))\n",
        "numero3 = int(input(\"Dame otro numero: \"))\n",
        "numero4 = int(input(\"Dame un numero final: \"))\n",
        "print(f\"tecleaste {numero} numero \")\n",
        "print(f\"tecleaste {numero2} numero \")\n",
        "print(f\"tecleaste {numero3} numero \")\n",
        "print(f\"tecleaste {numero4} numero \")\n",
        "if numero > numero2 and numero2 > numero3 and numero3 > numero4 and numero4 < numero3:\n",
        "    print(f\"{numero} es el numero mayor,\", f\"{numero4} es el numero menor\")\n",
        "elif numero > numero2 and numero2 > numero4 and numero4 > numero3 and numero3 < numero4:\n",
        "    print(f\"{numero} es el numero mayor,\", f\"{numero3} es el numero menor\")\n",
        "elif numero > numero3 and numero3 > numero2 and numero2 > numero4 and numero4 < numero2:\n",
        "    print(f\"{numero} es el numero mayor,\", f\"{numero4} es el numero menor\")\n",
        "elif numero > numero3 and numero3 > numero4 and numero4 > numero2 and numero2 < numero4:\n",
        "    print(f\"{numero} es el numero mayor,\", f\"{numero2} es el numero menor\")\n",
        "elif numero > numero4 and numero4 > numero2 and numero2 > numero3 and numero3 < numero2:\n",
        "    print(f\"{numero} es el numero mayor,\", f\"{numero3} es el numero menor\")\n",
        "elif numero > numero4 and numero4 > numero3 and numero3 > numero2 and numero2 < numero3:\n",
        "    print(f\"{numero} es el numero mayor,\", f\"{numero2} es el numero menor\")\n",
        "\n",
        "elif numero2 > numero and numero > numero3 and numero3 > numero4 and numero4 < numero3:\n",
        "    print(f\"{numero2} es el numero mayor\", f\"{numero4} Es el numero menor\")\n",
        "elif numero2 > numero and numero > numero4 and numero4 > numero3 and numero3 < numero4:\n",
        "    print(f\"{numero2} es el numero mayor\", f\"{numero3} Es el numero menor\")\n",
        "elif numero2 > numero3 and numero3 > numero and numero > numero4 and numero4 < numero:\n",
        "    print(f\"{numero2} es el numero mayor\", f\"{numero4} Es el numero menor\")\n",
        "elif numero2 > numero3 and numero3 > numero4 and numero4 > numero and numero < numero4:\n",
        "    print(f\"{numero2} es el numero mayor\", f\"{numero} Es el numero menor\")\n",
        "elif numero2 > numero4 and numero4 > numero and numero > numero3 and numero3 < numero:\n",
        "    print(f\"{numero2} es el numero mayor\", f\"{numero3} Es el numero menor\")\n",
        "elif numero2 > numero4 and numero4 > numero3 and numero3 > numero and numero < numero3:\n",
        "    print(f\"{numero2} es el numero mayor\", f\"{numero} Es el numero menor\")\n",
        "\n",
        "elif numero3 > numero and numero > numero2 and numero2 > numero4 and numero4 < numero2:\n",
        "    print(f\"{numero3} es el numero mayor\", f\"{numero4} Es el numero menor\")\n",
        "elif numero3 > numero and numero > numero4 and numero4 > numero2 and numero2 < numero4:\n",
        "    print(f\"{numero3} es el numero mayor\", f\"{numero2} Es el numero menor\")\n",
        "elif numero3 > numero2 and numero2 > numero and numero > numero4 and numero4 < numero:\n",
        "    print(f\"{numero3} es el numero mayor\", f\"{numero4} Es el numero menor\")\n",
        "elif numero3 > numero2 and numero2 > numero4 and numero4 > numero and numero < numero4:\n",
        "    print(f\"{numero3} es el numero mayor\", f\"{numero} Es el numero menor\")\n",
        "elif numero3 > numero4 and numero4 > numero and numero > numero2 and numero2 < numero:\n",
        "    print(f\"{numero3} es el numero mayor\", f\"{numero2} Es el numero menor\")\n",
        "elif numero3 > numero4 and numero4 > numero2 and numero2 > numero and numero < numero2:\n",
        "    print(f\"{numero3} es el numero mayor\", f\"{numero} Es el numero menor\")\n",
        "\n",
        "elif numero4 > numero and numero > numero2 and numero2 > numero3 and numero3 < numero2:\n",
        "    print(f\"{numero4} es el numero mayor\", f\"{numero3} Es el numero menor\")\n",
        "elif numero4 > numero and numero > numero3 and numero3 > numero2 and numero2 < numero3:\n",
        "    print(f\"{numero4} es el numero mayor\", f\"{numero2} Es el numero menor\")\n",
        "elif numero4 > numero2 and numero2 > numero and numero > numero3 and numero3 < numero:\n",
        "    print(f\"{numero4} es el numero mayor\", f\"{numero3} Es el numero menor\")\n",
        "elif numero4 > numero2 and numero2 > numero3 and numero3 > numero and numero < numero3:\n",
        "    print(f\"{numero4} es el numero mayor\", f\"{numero} Es el numero menor\")\n",
        "elif numero4 > numero3 and numero3 > numero and numero > numero2 and numero2 < numero:\n",
        "    print(f\"{numero4} es el numero mayor\", f\"{numero2} Es el numero menor\")\n",
        "elif numero4 > numero3 and numero3 > numero2 and numero2 > numero and numero < numero2:\n",
        "    print(f\"{numero4} es el numero mayor\", f\"{numero} Es el numero menor\")\n",
        "else: \n",
        "    print(\"Esto no es valido, deben ser numeros diferentes\")"
      ],
      "execution_count": 43,
      "outputs": [
        {
          "output_type": "stream",
          "name": "stdout",
          "text": [
            "Dame un numero: 150\n",
            "Dame otro numero: 45\n",
            "Dame otro numero: 78\n",
            "Dame un numero final: 21\n",
            "tecleaste 150 numero \n",
            "tecleaste 45 numero \n",
            "tecleaste 78 numero \n",
            "tecleaste 21 numero \n",
            "150 es el numero mayor, 21 es el numero menor\n"
          ]
        }
      ]
    }
  ]
}