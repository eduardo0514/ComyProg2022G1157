{
  "nbformat": 4,
  "nbformat_minor": 0,
  "metadata": {
    "colab": {
      "name": "Fundamentos3_CyP_1157.ipynb",
      "provenance": [],
      "authorship_tag": "ABX9TyMPoo7/ixuzsdZQEu5rgDNr",
      "include_colab_link": true
    },
    "kernelspec": {
      "name": "python3",
      "display_name": "Python 3"
    },
    "language_info": {
      "name": "python"
    }
  },
  "cells": [
    {
      "cell_type": "markdown",
      "metadata": {
        "id": "view-in-github",
        "colab_type": "text"
      },
      "source": [
        "<a href=\"https://colab.research.google.com/github/eduardo0514/ComyProg2022G1157/blob/main/Fundamentos3_CyP_1157.ipynb\" target=\"_parent\"><img src=\"https://colab.research.google.com/assets/colab-badge.svg\" alt=\"Open In Colab\"/></a>"
      ]
    },
    {
      "cell_type": "markdown",
      "metadata": {
        "id": "G8j5R_RUM5sL"
      },
      "source": [
        "# Clase del 23 de noviembre de 2021\n",
        "\n",
        "# Repetición:\n",
        "\n",
        "Este tipo de estructura nos permite automatizar la ejecución repetitiva de código mientas ciertas condiciones s cumplan, tenemos 3 variantes de esta estructura en todos los lenguajes de programación:\n",
        "\n",
        "- Desde...hasta (estructura for)\n",
        "- haz mientras (structura While)\n",
        "- haz y luego validaz mientras( estructura Do-While)\n",
        "\n",
        "# FOR con Python\n",
        "\n",
        "```\n",
        "for j in range(10):\n",
        "    print(f\"Hola { j }\")\n",
        "```\n",
        "\n",
        "# FOR con leng C y/o Java\n",
        "\n",
        "```\n",
        "for( int j=0 ; j<10 ; j=j+1 ){\n",
        "    printf(\"Hola %i \\n\", j );\n",
        "}\n",
        "```\n",
        "\n",
        "En todos los lenguajes de programación existe un tipo especial de for, conocido como **for-each**\n",
        "\n",
        "# For-each en Python\n",
        "\n",
        "```\n",
        "for color in colores:\n",
        "    print(f\"Este es el color { color}\")    \n",
        "```\n"
      ]
    },
    {
      "cell_type": "code",
      "metadata": {
        "colab": {
          "base_uri": "https://localhost:8080/"
        },
        "id": "SqJ7Gwj5NACE",
        "outputId": "2ac19bd5-fe04-47f4-a9b4-62af04d4271f"
      },
      "source": [
        "# funcion range()\n",
        "# range(<INICIO>,<STOP>,<INCREMENTO>)\n",
        "x = range(0,10,2)\n",
        "print(x)\n",
        "\n",
        "for j in range(10): # range(0,10) --> 0,1,2,3,4,5,6,7,8,9\n",
        "    print(f\"Hola {j}\")\n",
        "\n",
        "print(\"-.-.-.-.-.\")\n",
        "for j in range(0,10,2): #range(0,10,2)  --> 0,2,4,6,8\n",
        "    print(f\"Hola { j }\")\n",
        "\n",
        "frutas = [\"uva\",\"aguacate\",\"pera\",\"manzana\",\"sandia\"]\n",
        "\n",
        "print(frutas[0])\n",
        "print(frutas[1])\n",
        "print(frutas[2])\n",
        "print(frutas[3])\n",
        "print(frutas[4])\n",
        "\n",
        "print(\"---Frutas---\")\n",
        "for index in range(5):\n",
        "    print(frutas[index])\n",
        "\n",
        "for index in range(5):\n",
        "    print(\"+++++\")"
      ],
      "execution_count": null,
      "outputs": [
        {
          "output_type": "stream",
          "name": "stdout",
          "text": [
            "range(0, 10, 2)\n",
            "Hola 0\n",
            "Hola 1\n",
            "Hola 2\n",
            "Hola 3\n",
            "Hola 4\n",
            "Hola 5\n",
            "Hola 6\n",
            "Hola 7\n",
            "Hola 8\n",
            "Hola 9\n",
            "-.-.-.-.-.\n",
            "Hola 0\n",
            "Hola 2\n",
            "Hola 4\n",
            "Hola 6\n",
            "Hola 8\n",
            "uva\n",
            "aguacate\n",
            "pera\n",
            "manzana\n",
            "sandia\n",
            "---Frutas---\n",
            "uva\n",
            "aguacate\n",
            "pera\n",
            "manzana\n",
            "sandia\n",
            "+++++\n",
            "+++++\n",
            "+++++\n",
            "+++++\n",
            "+++++\n"
          ]
        }
      ]
    },
    {
      "cell_type": "markdown",
      "metadata": {
        "id": "UCQktdgre_Kc"
      },
      "source": [
        "# Clase del 25 de noviembre de 2021"
      ]
    },
    {
      "cell_type": "code",
      "metadata": {
        "colab": {
          "base_uri": "https://localhost:8080/"
        },
        "id": "JU7WGihQL2WU",
        "outputId": "de2e4f82-5123-4094-f0a4-99644b9b217a"
      },
      "source": [
        "for x in range(1, 20, 1):\n",
        "    print(x)\n",
        "print(\"Fin del programa\")\n",
        "\n",
        "for x in range(19,0,-1):\n",
        "    print(x)\n",
        "print(\"Fin del programa\")"
      ],
      "execution_count": null,
      "outputs": [
        {
          "output_type": "stream",
          "name": "stdout",
          "text": [
            "1\n",
            "2\n",
            "3\n",
            "4\n",
            "5\n",
            "6\n",
            "7\n",
            "8\n",
            "9\n",
            "10\n",
            "11\n",
            "12\n",
            "13\n",
            "14\n",
            "15\n",
            "16\n",
            "17\n",
            "18\n",
            "19\n",
            "Fin del programa\n"
          ]
        }
      ]
    },
    {
      "cell_type": "code",
      "metadata": {
        "colab": {
          "base_uri": "https://localhost:8080/"
        },
        "id": "Qy1uy5q4NsvU",
        "outputId": "2c87fc44-2c76-4347-bb93-cc89f943d119"
      },
      "source": [
        "# EJEMPLO 3.3\n",
        "CUECER = 0\n",
        "NUM = 0\n",
        "N = int(input(\"Un valor numerico mayor que 1: \"))\n",
        "for I in range(1, N + 1 , 1):\n",
        "    N = int(input(\"Un valor numerico: \"))\n",
        "    if N == 0:\n",
        "        CUECER += 1\n",
        "\n",
        "print(\"CUECER=\", CUECER) "
      ],
      "execution_count": null,
      "outputs": [
        {
          "output_type": "stream",
          "name": "stdout",
          "text": [
            "Un valor numerico mayor que 1: 10\n",
            "Un valor numerico: 30\n",
            "Un valor numerico: 40\n",
            "Un valor numerico: 50\n",
            "Un valor numerico: 60\n",
            "Un valor numerico: 70\n",
            "Un valor numerico: 80\n",
            "Un valor numerico: 3\n",
            "Un valor numerico: 4\n",
            "Un valor numerico: 5\n",
            "Un valor numerico: 6\n",
            "CUECER= 0\n"
          ]
        }
      ]
    },
    {
      "cell_type": "markdown",
      "metadata": {
        "id": "akiezrIwQyA1"
      },
      "source": [
        "7 x 1 = 7\n",
        "\n",
        "7 x 2 = 14\n",
        "\n",
        "...\n",
        "\n",
        "7 x 10 = 70\n"
      ]
    },
    {
      "cell_type": "code",
      "metadata": {
        "colab": {
          "base_uri": "https://localhost:8080/"
        },
        "id": "h0qMJcNZQ835",
        "outputId": "8010c433-c79b-4a7b-9eec-f65773d41db7"
      },
      "source": [
        "for x in range(1, 11,1): \n",
        "    print(f\"7 * {x}=\", 7*x )"
      ],
      "execution_count": null,
      "outputs": [
        {
          "output_type": "stream",
          "name": "stdout",
          "text": [
            "7 * 1= 7\n",
            "7 * 2= 14\n",
            "7 * 3= 21\n",
            "7 * 4= 28\n",
            "7 * 5= 35\n",
            "7 * 6= 42\n",
            "7 * 7= 49\n",
            "7 * 8= 56\n",
            "7 * 9= 63\n",
            "7 * 10= 70\n"
          ]
        }
      ]
    },
    {
      "cell_type": "markdown",
      "metadata": {
        "id": "yaZ1jm_ZR4RD"
      },
      "source": [
        "¿Dame un numero entre 1 y 5?: 2\n",
        "\n",
        "¿Dame un numero entre 2 y 10?: 6\n",
        "\n"
      ]
    },
    {
      "cell_type": "code",
      "metadata": {
        "colab": {
          "base_uri": "https://localhost:8080/"
        },
        "id": "zQMkgimmSQ7H",
        "outputId": "69a8e6d9-fcbc-4372-f24b-e2d5fef0fc38"
      },
      "source": [
        "N1 = int(input(\"dame un valor entre 1 y 5: \"))\n",
        "if N1 > 0 and N1 <= 5:\n",
        "    N2 = int(input(\"Dame un valor entre 2 y 10: \"))\n",
        "    if N2 >= N1 and N2 <= 10:\n",
        "        for i in range( N1, N2+1):\n",
        "            for j in range(1,11):\n",
        "                print(f\"{i} x {j} = \", i*j)\n",
        "            print(\"---------\")\n",
        "else: \n",
        "    print(\"Valor fuera de rango 1-5\")"
      ],
      "execution_count": null,
      "outputs": [
        {
          "output_type": "stream",
          "name": "stdout",
          "text": [
            "dame un valor entre 1 y 5: 4\n",
            "Dame un valor entre 2 y 10: 6\n",
            "4 x 1 =  4\n",
            "4 x 2 =  8\n",
            "4 x 3 =  12\n",
            "4 x 4 =  16\n",
            "4 x 5 =  20\n",
            "4 x 6 =  24\n",
            "4 x 7 =  28\n",
            "4 x 8 =  32\n",
            "4 x 9 =  36\n",
            "4 x 10 =  40\n",
            "---------\n",
            "5 x 1 =  5\n",
            "5 x 2 =  10\n",
            "5 x 3 =  15\n",
            "5 x 4 =  20\n",
            "5 x 5 =  25\n",
            "5 x 6 =  30\n",
            "5 x 7 =  35\n",
            "5 x 8 =  40\n",
            "5 x 9 =  45\n",
            "5 x 10 =  50\n",
            "---------\n",
            "6 x 1 =  6\n",
            "6 x 2 =  12\n",
            "6 x 3 =  18\n",
            "6 x 4 =  24\n",
            "6 x 5 =  30\n",
            "6 x 6 =  36\n",
            "6 x 7 =  42\n",
            "6 x 8 =  48\n",
            "6 x 9 =  54\n",
            "6 x 10 =  60\n",
            "---------\n"
          ]
        }
      ]
    },
    {
      "cell_type": "code",
      "metadata": {
        "colab": {
          "base_uri": "https://localhost:8080/"
        },
        "id": "s1Fhn34tWyv7",
        "outputId": "63db9971-1bc1-4a55-bf74-e297197e442a"
      },
      "source": [
        "# generadores de listas\n",
        "numeros = [0,0,0,0,0]\n",
        "print(numeros)\n",
        "numeros = [ 0 for x in range(5)]\n",
        "print(numeros)\n",
        "numeros = [ x for x in range(5)]\n",
        "print(numeros)\n",
        "numeros = [ (x+1)*10 for x in range(10)]\n",
        "print(numeros)\n",
        "numeros = [ x for x in range(10,101,10)]\n",
        "print(numeros)\n",
        "print(\".-.-.-.-.-\")\n",
        "numeros = [ x*10 for x in range(1,11)]\n",
        "print(numeros)"
      ],
      "execution_count": null,
      "outputs": [
        {
          "output_type": "stream",
          "name": "stdout",
          "text": [
            "[0, 0, 0, 0, 0]\n",
            "[0, 0, 0, 0, 0]\n",
            "[0, 1, 2, 3, 4]\n",
            "[10, 20, 30, 40, 50, 60, 70, 80, 90, 100]\n",
            "[10, 20, 30, 40, 50, 60, 70, 80, 90, 100]\n",
            ".-.-.-.-.-\n",
            "[10, 20, 30, 40, 50, 60, 70, 80, 90, 100]\n"
          ]
        }
      ]
    },
    {
      "cell_type": "code",
      "metadata": {
        "colab": {
          "base_uri": "https://localhost:8080/"
        },
        "id": "gxmWfOZGYVnH",
        "outputId": "89305ae6-7138-41ff-eaf9-594ca31a29fb"
      },
      "source": [
        "# ejercicios: calcular promedio de edades\n",
        "edades = [0 for x in range(5)]\n",
        "print(edades)\n",
        "\n",
        "suma=0\n",
        "edades=[0 for x in range(5)]\n",
        "for x in range(5):\n",
        "    edades[x]=int(input(\"Dame una edad: \"))\n",
        "    suma=suma+edades[x]\n",
        "print(edades)\n",
        "print(\"promedio: \", suma/5)"
      ],
      "execution_count": null,
      "outputs": [
        {
          "output_type": "stream",
          "name": "stdout",
          "text": [
            "[0, 0, 0, 0, 0]\n",
            "Dame una edad: 20\n",
            "Dame una edad: 30\n",
            "Dame una edad: 25\n",
            "Dame una edad: 19\n",
            "Dame una edad: 18\n",
            "[20, 30, 25, 19, 18]\n",
            "promedio:  22.4\n"
          ]
        }
      ]
    },
    {
      "cell_type": "code",
      "metadata": {
        "colab": {
          "base_uri": "https://localhost:8080/"
        },
        "id": "agoj40yHcSsu",
        "outputId": "268e1133-dc08-4d06-a9eb-3e5c87bec89b"
      },
      "source": [
        "import random\n",
        "print(random.random())\n",
        "print(random.uniform(5,11))\n",
        "val = round(random.uniform(5,11) , 2)\n",
        "print(val)\n",
        "\n",
        "valores = [round(random.uniform(5,11), 2) for x in range(20)]\n",
        "print(valores)"
      ],
      "execution_count": null,
      "outputs": [
        {
          "output_type": "stream",
          "name": "stdout",
          "text": [
            "0.25192533684393537\n",
            "9.0229529562278\n",
            "10.1\n",
            "[5.67, 7.96, 6.11, 5.7, 7.82, 6.45, 7.31, 8.23, 6.93, 7.07, 6.28, 9.23, 7.09, 7.65, 7.41, 7.58, 7.96, 5.13, 7.64, 9.69]\n"
          ]
        }
      ]
    },
    {
      "cell_type": "markdown",
      "metadata": {
        "id": "3tAmDzyw5_gA"
      },
      "source": [
        "# Clase del 30 de noviembre de 2021\n",
        "# Estrucutura de control de repetición Haz - mientras.\n",
        "\n",
        "Una estrucutura de control haz-mientras nos permite ejecutar repetidamente mientras una condición se siga cumpliendo\n",
        "\n",
        "# Sintaxis\n",
        "\n",
        "```\n",
        "While <condición>:\n",
        "    <Bloque de sentencias a ejecutar repetidamente>\n",
        "<siguiente sentencia posterior a while>\n",
        "```\n",
        "La diferencia principal en comparación con la estructura 'for' es que con 'While' NO conoces el numero de ciclos a ejecutar, en 'for' si se conoce.\n",
        "\n",
        "## Como ejemplo iniciemos con el siguiente enunciado.\n",
        "\n",
        "Hacer un programa que solicite un valor entero positivo y calcule repetidamente la mitad, se reasignará a ese valor a la misma variable. El ciclo se debe detener cuando el resultado sea menor a 1. Mostrar en pantalla el cálculo de todos los resultados y al final el número de iteraciones que realizó."
      ]
    },
    {
      "cell_type": "code",
      "metadata": {
        "colab": {
          "base_uri": "https://localhost:8080/"
        },
        "id": "C0APcjn47P84",
        "outputId": "70049f06-4513-47d5-acbd-09b70d6e7901"
      },
      "source": [
        "valor = int(input(\"Introduce un numero entero positivo: \"))\n",
        "contador = 0\n",
        "if valor > 0:\n",
        "    while valor > 1.0 :\n",
        "        valor = valor / 2\n",
        "        print( round(valor,2))\n",
        "        contador += 1\n",
        "else:\n",
        "    print(\"El numero es negativo, intenta de nuevo\")\n",
        "print(\"Total de iteraciones\", contador)"
      ],
      "execution_count": 1,
      "outputs": [
        {
          "output_type": "stream",
          "name": "stdout",
          "text": [
            "Introduce un numero entero positivo: 4\n",
            "2.0\n",
            "1.0\n",
            "Total de iteraciones 2\n"
          ]
        }
      ]
    },
    {
      "cell_type": "code",
      "metadata": {
        "colab": {
          "base_uri": "https://localhost:8080/"
        },
        "id": "fLIxICR68ora",
        "outputId": "bfabbac5-6395-4c5e-97e8-b128fea8482b"
      },
      "source": [
        "valor = int(input(\"Dame un valor entero: \"))\n",
        "\n",
        "while valor != 0:\n",
        "    print(valor)\n",
        "    valor = int(input(\"Dame un valor entero: \"))\n",
        "print(\"Fin del programa\")"
      ],
      "execution_count": 3,
      "outputs": [
        {
          "output_type": "stream",
          "name": "stdout",
          "text": [
            "Dame un valor entero: 0\n",
            "Fin del programa\n"
          ]
        }
      ]
    },
    {
      "cell_type": "code",
      "metadata": {
        "id": "nhq8d0l29RzX"
      },
      "source": [
        "valor = int(input(\"Dame un valor entero: \"))\n",
        "while valor != 0:\n",
        "    print(valor)\n",
        "    print(\"otras cosas\")\n",
        "print(\"Fin del programa\")"
      ],
      "execution_count": null,
      "outputs": []
    },
    {
      "cell_type": "code",
      "metadata": {
        "colab": {
          "base_uri": "https://localhost:8080/"
        },
        "id": "IsB7XucM_3uD",
        "outputId": "0560abb2-2f51-4036-d101-8deb9d7a7c65"
      },
      "source": [
        "n = int(input(\"Ingrese un numero entero positivo: \"))\n",
        "\n",
        "if n > 0:\n",
        "    print(\"Es correcto\")\n",
        "\n",
        "    for i in range(10):\n",
        "        print(n, \"por\", i+1, \"es igual a:\", n*(i+1))\n",
        "\n",
        "else:\n",
        "    print(\"El numero ingresado no es correcto\")"
      ],
      "execution_count": 5,
      "outputs": [
        {
          "output_type": "stream",
          "name": "stdout",
          "text": [
            "Ingrese un numero entero positivo: 2\n",
            "Es correcto\n",
            "2 por 1 es igual a: 2\n",
            "2 por 2 es igual a: 4\n",
            "2 por 3 es igual a: 6\n",
            "2 por 4 es igual a: 8\n",
            "2 por 5 es igual a: 10\n",
            "2 por 6 es igual a: 12\n",
            "2 por 7 es igual a: 14\n",
            "2 por 8 es igual a: 16\n",
            "2 por 9 es igual a: 18\n",
            "2 por 10 es igual a: 20\n"
          ]
        }
      ]
    },
    {
      "cell_type": "code",
      "metadata": {
        "colab": {
          "base_uri": "https://localhost:8080/"
        },
        "id": "kYhyx-VbCRqz",
        "outputId": "64751479-ffbf-45a6-e995-71336b576d43"
      },
      "source": [
        "while comprobar == True:\n",
        "    n = int(input(\"Ingrese un número entero positivo: \"))\n",
        "\n",
        "    if n > 0:\n",
        "        \n",
        "        i=1   #Se unicializa el valor en 1\n",
        "\n",
        "        while i < 11:\n",
        "            print(n, \"por\", i, \"es igual a:\", n*i)\n",
        "\n",
        "            i += 1 # i va a ser igual a la misma variable más 1\n",
        "\n",
        "            comprobar = False\n",
        "\n",
        "    else:\n",
        "        print(\"El numero ingresado no es correcto. Intente de nuevo\")"
      ],
      "execution_count": 13,
      "outputs": [
        {
          "output_type": "stream",
          "name": "stdout",
          "text": [
            "Ingrese un número entero positivo: 4\n",
            "4 por 1 es igual a: 4\n",
            "4 por 2 es igual a: 8\n",
            "4 por 3 es igual a: 12\n",
            "4 por 4 es igual a: 16\n",
            "4 por 5 es igual a: 20\n",
            "4 por 6 es igual a: 24\n",
            "4 por 7 es igual a: 28\n",
            "4 por 8 es igual a: 32\n",
            "4 por 9 es igual a: 36\n",
            "4 por 10 es igual a: 40\n"
          ]
        }
      ]
    },
    {
      "cell_type": "code",
      "metadata": {
        "colab": {
          "base_uri": "https://localhost:8080/"
        },
        "id": "j13fpRnSKTja",
        "outputId": "9564e952-7022-4cbd-f8a9-b41bc4704a57"
      },
      "source": [
        "n = int(input(\"Ingrese un numero entero positivo: \"))\n",
        "\n",
        "if n > 0:\n",
        "\n",
        "    resultado = 0\n",
        "\n",
        "    for i in range(1, n+1):\n",
        "        \n",
        "        resultado += (1/i)\n",
        "\n",
        "        print(\"El resultado de la serie es:\", resultado)\n",
        "\n",
        "else:\n",
        "    print(\"El numero ingresado no es correcto. Intentelo de nuevo.\")"
      ],
      "execution_count": 16,
      "outputs": [
        {
          "output_type": "stream",
          "name": "stdout",
          "text": [
            "Ingrese un numero entero positivo: -6\n",
            "El numero ingresado no es correcto. Intentelo de nuevo.\n"
          ]
        }
      ]
    },
    {
      "cell_type": "code",
      "metadata": {
        "colab": {
          "base_uri": "https://localhost:8080/"
        },
        "id": "YC0zhJLiMaeM",
        "outputId": "97c94b66-997f-4001-c545-a26c6e56fb90"
      },
      "source": [
        "comprobar = True\n",
        "\n",
        "while comprobar == True:\n",
        "    n = int(input(\"Ingrese un numero entero positivo: \"))\n",
        "\n",
        "    if n > 0:\n",
        "\n",
        "        comprobar = False\n",
        "\n",
        "        resultado = 0\n",
        "\n",
        "        for i in range(1, n+1):\n",
        "        \n",
        "            resultado += (1/i)\n",
        "\n",
        "            print(\"El resultado de la serie es:\", resultado)\n",
        "\n",
        "    else:\n",
        "        print(\"El numero ingresado no es correcto. Intentelo de nuevo.\")"
      ],
      "execution_count": 21,
      "outputs": [
        {
          "output_type": "stream",
          "name": "stdout",
          "text": [
            "Ingrese un numero entero positivo: -5\n",
            "El numero ingresado no es correcto. Intentelo de nuevo.\n",
            "Ingrese un numero entero positivo: 1\n",
            "El resultado de la serie es: 1.0\n"
          ]
        }
      ]
    }
  ]
}