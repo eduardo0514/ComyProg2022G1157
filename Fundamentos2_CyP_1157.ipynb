{
  "nbformat": 4,
  "nbformat_minor": 0,
  "metadata": {
    "colab": {
      "name": "Fundamentos2_CyP_1157.ipynb",
      "provenance": [],
      "authorship_tag": "ABX9TyNu96mOSn/X9nL0PsGZmI6M",
      "include_colab_link": true
    },
    "kernelspec": {
      "name": "python3",
      "display_name": "Python 3"
    },
    "language_info": {
      "name": "python"
    }
  },
  "cells": [
    {
      "cell_type": "markdown",
      "metadata": {
        "id": "view-in-github",
        "colab_type": "text"
      },
      "source": [
        "<a href=\"https://colab.research.google.com/github/eduardo0514/ComyProg2022G1157/blob/main/Fundamentos2_CyP_1157.ipynb\" target=\"_parent\"><img src=\"https://colab.research.google.com/assets/colab-badge.svg\" alt=\"Open In Colab\"/></a>"
      ]
    },
    {
      "cell_type": "markdown",
      "metadata": {
        "id": "Twfdy_KUFhdN"
      },
      "source": [
        "#Clase del 4 de noviembre de 2021\n",
        "\n",
        "# Tipos de datos estructurados de Python\n",
        "\n",
        "1. Listas\n",
        "2. Tuplas\n",
        "3. Diccionarios\n",
        "4. Conjuntos(opcional)"
      ]
    },
    {
      "cell_type": "markdown",
      "metadata": {
        "id": "j4rQkP_bFuYV"
      },
      "source": [
        "# Listas \n",
        "\n",
        "- Tipo de dato que agrupa variables o valores.\n",
        "- Estrucutra secuencial (undexados empezando por 0) \n",
        "- Se declara de dos formas#\n",
        "    - usando [ ]\n",
        "    - usando list()\n",
        "    - usando un generador\n",
        "- Puede contener tipos de dato diversos (En otros lenguajes de prog. eso no es posible de forma directa)\n",
        "- Los elementos internos se seleccionan con [ ]\n",
        "- Soporta slicing\n",
        "- SON MUTABLES\n",
        "- GENERADORES [var for x in range ( 10 ) ] \n",
        "- al ser una clase contiene  muchos metodos útiles\n"
      ]
    },
    {
      "cell_type": "code",
      "metadata": {
        "colab": {
          "base_uri": "https://localhost:8080/"
        },
        "id": "blTBEpdDGi1P",
        "outputId": "b915bafd-c371-47d3-8941-ae35f4211194"
      },
      "source": [
        "numeros = [10, 5,2, 3, 1]\n",
        "print(numeros)\n",
        "\n",
        "numeros2 = list()\n",
        "numeros2.append(10)\n",
        "numeros2.append(5)\n",
        "numeros2.append(2)\n",
        "numeros2.append(3)\n",
        "numeros2.append(1)\n",
        "print(numeros2)\n",
        "numeros[2] = 20\n",
        "print(numeros)\n",
        "numeros[ 4 ] = 33\n",
        "numeros.append(88)\n",
        "print(numeros)"
      ],
      "execution_count": null,
      "outputs": [
        {
          "output_type": "stream",
          "name": "stdout",
          "text": [
            "[10, 5, 2, 3, 1]\n",
            "[10, 5, 2, 3, 1]\n",
            "[10, 5, 20, 3, 1]\n",
            "[10, 5, 20, 3, 33, 88]\n"
          ]
        }
      ]
    },
    {
      "cell_type": "code",
      "metadata": {
        "colab": {
          "base_uri": "https://localhost:8080/"
        },
        "id": "97COS8H0IeS4",
        "outputId": "caef6cff-3aba-489e-dad3-97b58c2bd743"
      },
      "source": [
        "# tipos diversos\n",
        "\n",
        "cosas = [12, 2, True , \"José\" , 1.57 , [\"pera\", \"kiwi\", \"uva\"] ]\n",
        "print(cosas)\n",
        "print(cosas[1])\n",
        "print(cosas[4])\n",
        "print(cosas[5])\n",
        "print(cosas[5][1])\n",
        "print(cosas[3][1:3:])\n",
        "cosas[3] = cosas[3].upper()\n",
        "print(cosas)"
      ],
      "execution_count": null,
      "outputs": [
        {
          "output_type": "stream",
          "name": "stdout",
          "text": [
            "[12, 2, True, 'José', 1.57, ['pera', 'kiwi', 'uva']]\n",
            "2\n",
            "1.57\n",
            "['pera', 'kiwi', 'uva']\n",
            "kiwi\n",
            "os\n",
            "[12, 2, True, 'JOSÉ', 1.57, ['pera', 'kiwi', 'uva']]\n"
          ]
        }
      ]
    },
    {
      "cell_type": "code",
      "metadata": {
        "colab": {
          "base_uri": "https://localhost:8080/"
        },
        "id": "uj8HghuvL14_",
        "outputId": "8f0564b2-61ba-431a-de10-54dd80459604"
      },
      "source": [
        "numeros = [1,2,3,4,5,6,7,8,9,10,11]\n",
        "print(numeros)\n",
        "#slicing\n",
        "# 1.- 4 al 8???\n",
        "print(numeros[3:8])\n",
        "# 2: [9, 10]\n",
        "print(numeros[8:10])\n",
        "# 3.- imprimir la lista en orden inverso[11.10,9, etc., 1]\n",
        "print(numeros[::-1])"
      ],
      "execution_count": null,
      "outputs": [
        {
          "output_type": "stream",
          "name": "stdout",
          "text": [
            "[1, 2, 3, 4, 5, 6, 7, 8, 9, 10, 11]\n",
            "[4, 5, 6, 7, 8]\n",
            "[9, 10]\n",
            "[11, 10, 9, 8, 7, 6, 5, 4, 3, 2, 1]\n"
          ]
        }
      ]
    },
    {
      "cell_type": "code",
      "metadata": {
        "colab": {
          "base_uri": "https://localhost:8080/"
        },
        "id": "mshmi6onPoT9",
        "outputId": "a2de304b-8b30-4670-d41c-d001b95f46c2"
      },
      "source": [
        "# crear una lista con un generador\n",
        "numeros = [x*3 for x in range(101) ]\n",
        "print(numeros)"
      ],
      "execution_count": null,
      "outputs": [
        {
          "output_type": "stream",
          "name": "stdout",
          "text": [
            "[0, 3, 6, 9, 12, 15, 18, 21, 24, 27, 30, 33, 36, 39, 42, 45, 48, 51, 54, 57, 60, 63, 66, 69, 72, 75, 78, 81, 84, 87, 90, 93, 96, 99, 102, 105, 108, 111, 114, 117, 120, 123, 126, 129, 132, 135, 138, 141, 144, 147, 150, 153, 156, 159, 162, 165, 168, 171, 174, 177, 180, 183, 186, 189, 192, 195, 198, 201, 204, 207, 210, 213, 216, 219, 222, 225, 228, 231, 234, 237, 240, 243, 246, 249, 252, 255, 258, 261, 264, 267, 270, 273, 276, 279, 282, 285, 288, 291, 294, 297, 300]\n"
          ]
        }
      ]
    },
    {
      "cell_type": "markdown",
      "metadata": {
        "id": "so4_tsOVQXe2"
      },
      "source": [
        "# Función range()\n",
        "\n",
        "tiene los mismos componentes que slicing\n",
        "\n",
        "ini, stop, incremento\n",
        "\n",
        "range(1,101,1)"
      ]
    },
    {
      "cell_type": "code",
      "metadata": {
        "colab": {
          "base_uri": "https://localhost:8080/"
        },
        "id": "me0DB5MIQwY2",
        "outputId": "9df682b4-b6ce-42df-bc6c-b24418c3b846"
      },
      "source": [
        "numeros = [x for x in range(50, 101, 2)]\n",
        "print(numeros)"
      ],
      "execution_count": null,
      "outputs": [
        {
          "output_type": "stream",
          "name": "stdout",
          "text": [
            "[50, 52, 54, 56, 58, 60, 62, 64, 66, 68, 70, 72, 74, 76, 78, 80, 82, 84, 86, 88, 90, 92, 94, 96, 98, 100]\n"
          ]
        }
      ]
    },
    {
      "cell_type": "markdown",
      "metadata": {
        "id": "gdf5PiVIRMHR"
      },
      "source": [
        "# Metodos disponibles de las listas"
      ]
    },
    {
      "cell_type": "code",
      "metadata": {
        "colab": {
          "base_uri": "https://localhost:8080/"
        },
        "id": "i9oW24TxRQd3",
        "outputId": "652bb3ba-da09-494f-a9c9-c819abe912aa"
      },
      "source": [
        "dir(list)"
      ],
      "execution_count": null,
      "outputs": [
        {
          "output_type": "execute_result",
          "data": {
            "text/plain": [
              "['__add__',\n",
              " '__class__',\n",
              " '__contains__',\n",
              " '__delattr__',\n",
              " '__delitem__',\n",
              " '__dir__',\n",
              " '__doc__',\n",
              " '__eq__',\n",
              " '__format__',\n",
              " '__ge__',\n",
              " '__getattribute__',\n",
              " '__getitem__',\n",
              " '__gt__',\n",
              " '__hash__',\n",
              " '__iadd__',\n",
              " '__imul__',\n",
              " '__init__',\n",
              " '__init_subclass__',\n",
              " '__iter__',\n",
              " '__le__',\n",
              " '__len__',\n",
              " '__lt__',\n",
              " '__mul__',\n",
              " '__ne__',\n",
              " '__new__',\n",
              " '__reduce__',\n",
              " '__reduce_ex__',\n",
              " '__repr__',\n",
              " '__reversed__',\n",
              " '__rmul__',\n",
              " '__setattr__',\n",
              " '__setitem__',\n",
              " '__sizeof__',\n",
              " '__str__',\n",
              " '__subclasshook__',\n",
              " 'append',\n",
              " 'clear',\n",
              " 'copy',\n",
              " 'count',\n",
              " 'extend',\n",
              " 'index',\n",
              " 'insert',\n",
              " 'pop',\n",
              " 'remove',\n",
              " 'reverse',\n",
              " 'sort']"
            ]
          },
          "metadata": {},
          "execution_count": 39
        }
      ]
    },
    {
      "cell_type": "code",
      "metadata": {
        "colab": {
          "base_uri": "https://localhost:8080/"
        },
        "id": "8cnnJ1YQSfZH",
        "outputId": "e518716a-bd53-4354-aac8-1b667be3ee75"
      },
      "source": [
        "numeros = [4,1,15,8,22,34,50]\n",
        "print(numeros)\n",
        "numeros.append(99)\n",
        "print(numeros)\n",
        "# numeros.clear()\n",
        "numeros = []\n",
        "print(numeros)\n",
        "\n",
        "frutas = [\"uvas\", \"kiwi\", \"manzana\"]\n",
        "copia = frutas\n",
        "print(frutas)\n",
        "print(copia)\n",
        "frutas.append(\"naranja\")\n",
        "print(frutas)\n",
        "print(copia)\n",
        "\n",
        "colores = [\"rojo\", \"azul\", \"blanco\"]\n",
        "copia2 = colores.copy()\n",
        "print(colores)\n",
        "print(copia2)\n",
        "colores.append(\"verde\")\n",
        "print(colores)\n",
        "print(copia2)\n",
        "\n",
        "print(\"numeros de veces que aparece el 15=\" , numeros.count(15))\n",
        "\n",
        "# extend\n",
        "\n",
        "nombres = [\"jose\", \"pedro\", \"karina\"]\n",
        "otrosnombres = [\"josue\", \"diana\", \"dalia\"]\n",
        "\n",
        "print(nombres)\n",
        "print(otrosnombres)\n",
        "nombres = nombres + otrosnombres\n",
        "print(nombres)\n",
        "print(otrosnombres)\n",
        "\n",
        "#lo mismo con el metodo extend\n",
        "otrosnombres.extend([\"jesus\", \"maria\", \"jose\"])\n",
        "print(otrosnombres)\n",
        "print(\"jesus esta en la posicion:\", otrosnombres.index(\"jesus\"))\n",
        "otrosnombres.insert(4, \"espiritu santo\")\n",
        "print(otrosnombres)\n",
        "\n",
        "#pop\n",
        "resultado = otrosnombres.pop()\n",
        "print(otrosnombres)\n",
        "print(resultado)"
      ],
      "execution_count": null,
      "outputs": [
        {
          "output_type": "stream",
          "name": "stdout",
          "text": [
            "[4, 1, 15, 8, 22, 34, 50]\n",
            "[4, 1, 15, 8, 22, 34, 50, 99]\n",
            "[]\n",
            "['uvas', 'kiwi', 'manzana']\n",
            "['uvas', 'kiwi', 'manzana']\n",
            "['uvas', 'kiwi', 'manzana', 'naranja']\n",
            "['uvas', 'kiwi', 'manzana', 'naranja']\n",
            "['rojo', 'azul', 'blanco']\n",
            "['rojo', 'azul', 'blanco']\n",
            "['rojo', 'azul', 'blanco', 'verde']\n",
            "['rojo', 'azul', 'blanco']\n",
            "numeros de veces que aparece el 15= 0\n",
            "['jose', 'pedro', 'karina']\n",
            "['josue', 'diana', 'dalia']\n",
            "['jose', 'pedro', 'karina', 'josue', 'diana', 'dalia']\n",
            "['josue', 'diana', 'dalia']\n",
            "['josue', 'diana', 'dalia', 'jesus', 'maria', 'jose']\n",
            "jesus esta en la posicion: 3\n",
            "['josue', 'diana', 'dalia', 'jesus', 'espiritu santo', 'maria', 'jose']\n",
            "['josue', 'diana', 'dalia', 'jesus', 'espiritu santo', 'maria']\n",
            "jose\n"
          ]
        }
      ]
    },
    {
      "cell_type": "markdown",
      "metadata": {
        "id": "U_Ah6Wx3wFYW"
      },
      "source": [
        "# Clase del 9 de noviembre de 2021\n",
        "\n",
        "\n",
        "# Tuplas\n",
        "\n",
        "### Caracterisiricas de las tuplas \n",
        "\n",
        "- Datos agrupados.\n",
        "- Se declara usando#\n",
        "    - ()\n",
        "    - Tuple()\n",
        "- Estrucutra secuencial, indexada a partir de 0.\n",
        "- Pueden tener de 0 a n elementos.\n",
        "- NO SON MUTABLES (No se puede: Eliminar y/o cambiar)\n",
        "- Son buenas para almacenar información \n",
        "- Pueden almacenar info. de diferentes tipos de dato.\n",
        "- Pueden estar anidadas.\n",
        "- Tienen métodos útiles"
      ]
    },
    {
      "cell_type": "code",
      "metadata": {
        "colab": {
          "base_uri": "https://localhost:8080/"
        },
        "id": "r3l_ZY8vwyQw",
        "outputId": "25309154-0fa6-4eea-d182-014ad7d975ec"
      },
      "source": [
        "info = (\"juan23\", \"dios1234\", \"123.232.1.12\")\n",
        "print( info )\n",
        "print( info[ 1 ] )\n",
        "#info[ 1 ] = \"patito23\"\n",
        "\n",
        "numeros = (0,1,2,3,4,5,6,7,8,9,10,11,12,13,14,15)\n",
        "print( numeros )\n",
        "print(numeros[5:11])\n",
        "\n",
        "cosas = (info , numeros )\n",
        "print( cosas )\n",
        "print( cosas[1][5:11:1] )\n",
        "print( cosas[0][2][4:7] )\n",
        "print( cosas[0][2][-8:-5] )"
      ],
      "execution_count": 15,
      "outputs": [
        {
          "output_type": "stream",
          "name": "stdout",
          "text": [
            "('juan23', 'dios1234', '123.232.1.12')\n",
            "dios1234\n",
            "(0, 1, 2, 3, 4, 5, 6, 7, 8, 9, 10, 11, 12, 13, 14, 15)\n",
            "(5, 6, 7, 8, 9, 10)\n",
            "(('juan23', 'dios1234', '123.232.1.12'), (0, 1, 2, 3, 4, 5, 6, 7, 8, 9, 10, 11, 12, 13, 14, 15))\n",
            "(5, 6, 7, 8, 9, 10)\n",
            "232\n",
            "232\n"
          ]
        }
      ]
    },
    {
      "cell_type": "markdown",
      "metadata": {
        "id": "5dnhfZqq0m0w"
      },
      "source": [
        "# Metodos de las tuplas\n",
        "Son los mismos de las listas pero los que no involucren mutabilidad."
      ]
    },
    {
      "cell_type": "code",
      "metadata": {
        "colab": {
          "base_uri": "https://localhost:8080/"
        },
        "id": "DFZ2OsQt0toq",
        "outputId": "88a49018-c795-45f7-e4fa-ba2e92e6dd64"
      },
      "source": [
        "dir(tuple)"
      ],
      "execution_count": 19,
      "outputs": [
        {
          "output_type": "execute_result",
          "data": {
            "text/plain": [
              "['__add__',\n",
              " '__class__',\n",
              " '__contains__',\n",
              " '__delattr__',\n",
              " '__dir__',\n",
              " '__doc__',\n",
              " '__eq__',\n",
              " '__format__',\n",
              " '__ge__',\n",
              " '__getattribute__',\n",
              " '__getitem__',\n",
              " '__getnewargs__',\n",
              " '__gt__',\n",
              " '__hash__',\n",
              " '__init__',\n",
              " '__init_subclass__',\n",
              " '__iter__',\n",
              " '__le__',\n",
              " '__len__',\n",
              " '__lt__',\n",
              " '__mul__',\n",
              " '__ne__',\n",
              " '__new__',\n",
              " '__reduce__',\n",
              " '__reduce_ex__',\n",
              " '__repr__',\n",
              " '__rmul__',\n",
              " '__setattr__',\n",
              " '__sizeof__',\n",
              " '__str__',\n",
              " '__subclasshook__',\n",
              " 'count',\n",
              " 'index']"
            ]
          },
          "metadata": {},
          "execution_count": 19
        }
      ]
    },
    {
      "cell_type": "markdown",
      "metadata": {
        "id": "k86DKC5e3QAw"
      },
      "source": [
        "# Diccionario \n",
        "### Caracteristicas de los diccionarios\n",
        "\n",
        "- Agrupan datos pero de forma no lineal.\n",
        "- Se declara con:\n",
        "    - {}\n",
        "    - dict()\n",
        "- Formado por pares del tipo llave: valor, donde:\n",
        "    - Llave es de tipo string (siempre) \n",
        "    - valor puede ser de cualquier tipo de datos. incluyendo los diccionarios\n",
        "- Se seleccionan con la llave de la forma: [\"id_llave\"]\n",
        "- Son mutables\n",
        "- Son anidables\n",
        "- Son equivalentes al tipo de dato JSON del lenguaje JavaScript (JS)"
      ]
    },
    {
      "cell_type": "code",
      "metadata": {
        "colab": {
          "base_uri": "https://localhost:8080/"
        },
        "id": "SE4QehHI3O8k",
        "outputId": "17d2f6d8-756e-4242-b6c8-d7d5963a655c"
      },
      "source": [
        "alumno = {\"nombre\" : \"José\"}\n",
        "print(alumno)\n",
        "print( alumno[\"nombre\"])\n",
        "alumno = {\"nombre\":\"José\", \"nc\":\"2129229292\", \"edad\": 18 }\n",
        "print(\"Edad del alumno = \", alumno[\"edad\"])\n",
        "print(alumno[\"nombre\"].upper())\n",
        "print(alumno)\n",
        "\n",
        "print(\"alumno2:\")\n",
        "alumno2 = dict()  # { }\n",
        "alumno2[\"nombre\"] = \"José\"\n",
        "print(alumno2)\n",
        "alumno2[\"nc\"] = \"2129229292\"\n",
        "alumno2[\"edad\"] = 18\n",
        "print(alumno2)\n",
        "alumno2[\"edad\"] = alumno2[\"edad\"] + 1\n",
        "print(alumno2)"
      ],
      "execution_count": 33,
      "outputs": [
        {
          "output_type": "stream",
          "name": "stdout",
          "text": [
            "{'nombre': 'José'}\n",
            "José\n",
            "Edad del alumno =  18\n",
            "JOSÉ\n",
            "{'nombre': 'José', 'nc': '2129229292', 'edad': 18}\n",
            "alumno2:\n",
            "{'nombre': 'José'}\n",
            "{'nombre': 'José', 'nc': '2129229292', 'edad': 18}\n",
            "{'nombre': 'José', 'nc': '2129229292', 'edad': 19}\n"
          ]
        }
      ]
    },
    {
      "cell_type": "code",
      "metadata": {
        "colab": {
          "base_uri": "https://localhost:8080/"
        },
        "id": "zbDas2XC8XpD",
        "outputId": "b6b9fa74-fe15-4ac3-b5f9-7229785659c4"
      },
      "source": [
        "cliente = { \"id\":\"CT2121\",\n",
        "           \"nombre\" : \"José Pedroza Rosales\" ,\n",
        "           \"telefono\" : \"casa=55445665 cel=0445567767\" }\n",
        "\n",
        "print(cliente)\n",
        "cliente = { \"id\":\"CT2121\" ,\n",
        "           \"nombre\" : {\n",
        "               \"nombres\" : [\"José\", \"Eduardo\"] ,\n",
        "               \"paterno\" : \"Pedroza\",\n",
        "               \"materno\" : \"Rosales\"\n",
        "           } ,\n",
        "           \"telefonos\" :{\n",
        "               \"casa\" : \"5566324234\",\n",
        "               \"trabajo\":\"554433232\" ,\n",
        "               \"celular\":\"04455234234\"\n",
        "           } ,\n",
        "           \"productos\":{\n",
        "               \"ahorro\":{ \"numero_cuenta\":\"7788\" , \"ahorro\": 2500.5 },\n",
        "               \"tarjetas\": [\n",
        "                           {\"tipo\":\"debito\", \"saldo\" : 10000.5 },\n",
        "                           {\"tipo\":\"credito preferente\",\"limite\" : 250000.5},\n",
        "                           {\"tipo\":\"lite\" , \"limite\": 15000.5}\n",
        "                ]\n",
        "               },\n",
        "              \"direccion\":{\n",
        "                  \"calle\":\"Av. Central\",\n",
        "                  \"numero\" : 1245,\n",
        "                  \"colonia\" :\"impulsora\",\n",
        "                  \"delegación\" : \"neza\",\n",
        "                  \"estado\" : {\n",
        "                              \"clave\" : 15,\n",
        "                              \"nombre_corto\": \"EdoMex\",\n",
        "                              \"nombre\": \"Estado de México\"\n",
        "                  }\n",
        "              }\n",
        "\n",
        "          }\n",
        "print( cliente[\"telefonos\"][\"casa\"] )\n",
        "print(cliente)"
      ],
      "execution_count": 5,
      "outputs": [
        {
          "output_type": "stream",
          "name": "stdout",
          "text": [
            "{'id': 'CT2121', 'nombre': 'José Pedroza Rosales', 'telefono': 'casa=55445665 cel=0445567767'}\n",
            "5566324234\n",
            "{'id': 'CT2121', 'nombre': {'nombres': ['José', 'Eduardo'], 'paterno': 'Pedroza', 'materno': 'Rosales'}, 'telefonos': {'casa': '5566324234', 'trabajo': '554433232', 'celular': '04455234234'}, 'productos': {'ahorro': {'numero_cuenta': '7788', 'ahorro': 2500.5}, 'tarjetas': [{'tipo': 'debito', 'saldo': 10000.5}, {'tipo': 'credito preferente', 'limite': 250000.5}, {'tipo': 'lite', 'limite': 15000.5}]}, 'direccion': {'calle': 'Av. Central', 'numero': 1245, 'colonia': 'impulsora', 'delegación': 'neza', 'estado': {'clave': 15, 'nombre_corto': 'EdoMex', 'nombre': 'Estado de México'}}}\n"
          ]
        }
      ]
    }
  ]
}