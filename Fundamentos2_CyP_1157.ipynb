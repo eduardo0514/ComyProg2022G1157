{
  "nbformat": 4,
  "nbformat_minor": 0,
  "metadata": {
    "colab": {
      "name": "Fundamentos2_CyP_1157.ipynb",
      "provenance": [],
      "authorship_tag": "ABX9TyMNiAiajJ5vQA2nq0b21IhU",
      "include_colab_link": true
    },
    "kernelspec": {
      "name": "python3",
      "display_name": "Python 3"
    },
    "language_info": {
      "name": "python"
    }
  },
  "cells": [
    {
      "cell_type": "markdown",
      "metadata": {
        "id": "view-in-github",
        "colab_type": "text"
      },
      "source": [
        "<a href=\"https://colab.research.google.com/github/eduardo0514/ComyProg2022G1157/blob/main/Fundamentos2_CyP_1157.ipynb\" target=\"_parent\"><img src=\"https://colab.research.google.com/assets/colab-badge.svg\" alt=\"Open In Colab\"/></a>"
      ]
    },
    {
      "cell_type": "markdown",
      "metadata": {
        "id": "Twfdy_KUFhdN"
      },
      "source": [
        "#Clase del 4 de noviembre de 2021\n",
        "\n",
        "# Tipos de datos estructurados de Python\n",
        "\n",
        "1. Listas\n",
        "2. Tuplas\n",
        "3. Diccionarios\n",
        "4. Conjuntos(opcional)"
      ]
    },
    {
      "cell_type": "markdown",
      "metadata": {
        "id": "j4rQkP_bFuYV"
      },
      "source": [
        "# Listas \n",
        "\n",
        "- Tipo de dato que agrupa variables o valores.\n",
        "- Estrucutra secuencial (undexados empezando por 0) \n",
        "- Se declara de dos formas#\n",
        "    - usando [ ]\n",
        "    - usando list()\n",
        "    - usando un generador\n",
        "- Puede contener tipos de dato diversos (En otros lenguajes de prog. eso no es posible de forma directa)\n",
        "- Los elementos internos se seleccionan con [ ]\n",
        "- Soporta slicing\n",
        "- SON MUTABLES\n",
        "- GENERADORES [var for x in range ( 10 ) ] \n",
        "- al ser una clase contiene  muchos metodos útiles\n"
      ]
    },
    {
      "cell_type": "code",
      "metadata": {
        "colab": {
          "base_uri": "https://localhost:8080/"
        },
        "id": "blTBEpdDGi1P",
        "outputId": "b915bafd-c371-47d3-8941-ae35f4211194"
      },
      "source": [
        "numeros = [10, 5,2, 3, 1]\n",
        "print(numeros)\n",
        "\n",
        "numeros2 = list()\n",
        "numeros2.append(10)\n",
        "numeros2.append(5)\n",
        "numeros2.append(2)\n",
        "numeros2.append(3)\n",
        "numeros2.append(1)\n",
        "print(numeros2)\n",
        "numeros[2] = 20\n",
        "print(numeros)\n",
        "numeros[ 4 ] = 33\n",
        "numeros.append(88)\n",
        "print(numeros)"
      ],
      "execution_count": null,
      "outputs": [
        {
          "output_type": "stream",
          "name": "stdout",
          "text": [
            "[10, 5, 2, 3, 1]\n",
            "[10, 5, 2, 3, 1]\n",
            "[10, 5, 20, 3, 1]\n",
            "[10, 5, 20, 3, 33, 88]\n"
          ]
        }
      ]
    },
    {
      "cell_type": "code",
      "metadata": {
        "colab": {
          "base_uri": "https://localhost:8080/"
        },
        "id": "97COS8H0IeS4",
        "outputId": "caef6cff-3aba-489e-dad3-97b58c2bd743"
      },
      "source": [
        "# tipos diversos\n",
        "\n",
        "cosas = [12, 2, True , \"José\" , 1.57 , [\"pera\", \"kiwi\", \"uva\"] ]\n",
        "print(cosas)\n",
        "print(cosas[1])\n",
        "print(cosas[4])\n",
        "print(cosas[5])\n",
        "print(cosas[5][1])\n",
        "print(cosas[3][1:3:])\n",
        "cosas[3] = cosas[3].upper()\n",
        "print(cosas)"
      ],
      "execution_count": null,
      "outputs": [
        {
          "output_type": "stream",
          "name": "stdout",
          "text": [
            "[12, 2, True, 'José', 1.57, ['pera', 'kiwi', 'uva']]\n",
            "2\n",
            "1.57\n",
            "['pera', 'kiwi', 'uva']\n",
            "kiwi\n",
            "os\n",
            "[12, 2, True, 'JOSÉ', 1.57, ['pera', 'kiwi', 'uva']]\n"
          ]
        }
      ]
    },
    {
      "cell_type": "code",
      "metadata": {
        "colab": {
          "base_uri": "https://localhost:8080/"
        },
        "id": "uj8HghuvL14_",
        "outputId": "8f0564b2-61ba-431a-de10-54dd80459604"
      },
      "source": [
        "numeros = [1,2,3,4,5,6,7,8,9,10,11]\n",
        "print(numeros)\n",
        "#slicing\n",
        "# 1.- 4 al 8???\n",
        "print(numeros[3:8])\n",
        "# 2: [9, 10]\n",
        "print(numeros[8:10])\n",
        "# 3.- imprimir la lista en orden inverso[11.10,9, etc., 1]\n",
        "print(numeros[::-1])"
      ],
      "execution_count": null,
      "outputs": [
        {
          "output_type": "stream",
          "name": "stdout",
          "text": [
            "[1, 2, 3, 4, 5, 6, 7, 8, 9, 10, 11]\n",
            "[4, 5, 6, 7, 8]\n",
            "[9, 10]\n",
            "[11, 10, 9, 8, 7, 6, 5, 4, 3, 2, 1]\n"
          ]
        }
      ]
    },
    {
      "cell_type": "code",
      "metadata": {
        "colab": {
          "base_uri": "https://localhost:8080/"
        },
        "id": "mshmi6onPoT9",
        "outputId": "a2de304b-8b30-4670-d41c-d001b95f46c2"
      },
      "source": [
        "# crear una lista con un generador\n",
        "numeros = [x*3 for x in range(101) ]\n",
        "print(numeros)"
      ],
      "execution_count": null,
      "outputs": [
        {
          "output_type": "stream",
          "name": "stdout",
          "text": [
            "[0, 3, 6, 9, 12, 15, 18, 21, 24, 27, 30, 33, 36, 39, 42, 45, 48, 51, 54, 57, 60, 63, 66, 69, 72, 75, 78, 81, 84, 87, 90, 93, 96, 99, 102, 105, 108, 111, 114, 117, 120, 123, 126, 129, 132, 135, 138, 141, 144, 147, 150, 153, 156, 159, 162, 165, 168, 171, 174, 177, 180, 183, 186, 189, 192, 195, 198, 201, 204, 207, 210, 213, 216, 219, 222, 225, 228, 231, 234, 237, 240, 243, 246, 249, 252, 255, 258, 261, 264, 267, 270, 273, 276, 279, 282, 285, 288, 291, 294, 297, 300]\n"
          ]
        }
      ]
    },
    {
      "cell_type": "markdown",
      "metadata": {
        "id": "so4_tsOVQXe2"
      },
      "source": [
        "# Función range()\n",
        "\n",
        "tiene los mismos componentes que slicing\n",
        "\n",
        "ini, stop, incremento\n",
        "\n",
        "range(1,101,1)"
      ]
    },
    {
      "cell_type": "code",
      "metadata": {
        "colab": {
          "base_uri": "https://localhost:8080/"
        },
        "id": "me0DB5MIQwY2",
        "outputId": "9df682b4-b6ce-42df-bc6c-b24418c3b846"
      },
      "source": [
        "numeros = [x for x in range(50, 101, 2)]\n",
        "print(numeros)"
      ],
      "execution_count": null,
      "outputs": [
        {
          "output_type": "stream",
          "name": "stdout",
          "text": [
            "[50, 52, 54, 56, 58, 60, 62, 64, 66, 68, 70, 72, 74, 76, 78, 80, 82, 84, 86, 88, 90, 92, 94, 96, 98, 100]\n"
          ]
        }
      ]
    },
    {
      "cell_type": "markdown",
      "metadata": {
        "id": "gdf5PiVIRMHR"
      },
      "source": [
        "# Metodos disponibles de las listas"
      ]
    },
    {
      "cell_type": "code",
      "metadata": {
        "colab": {
          "base_uri": "https://localhost:8080/"
        },
        "id": "i9oW24TxRQd3",
        "outputId": "652bb3ba-da09-494f-a9c9-c819abe912aa"
      },
      "source": [
        "dir(list)"
      ],
      "execution_count": null,
      "outputs": [
        {
          "output_type": "execute_result",
          "data": {
            "text/plain": [
              "['__add__',\n",
              " '__class__',\n",
              " '__contains__',\n",
              " '__delattr__',\n",
              " '__delitem__',\n",
              " '__dir__',\n",
              " '__doc__',\n",
              " '__eq__',\n",
              " '__format__',\n",
              " '__ge__',\n",
              " '__getattribute__',\n",
              " '__getitem__',\n",
              " '__gt__',\n",
              " '__hash__',\n",
              " '__iadd__',\n",
              " '__imul__',\n",
              " '__init__',\n",
              " '__init_subclass__',\n",
              " '__iter__',\n",
              " '__le__',\n",
              " '__len__',\n",
              " '__lt__',\n",
              " '__mul__',\n",
              " '__ne__',\n",
              " '__new__',\n",
              " '__reduce__',\n",
              " '__reduce_ex__',\n",
              " '__repr__',\n",
              " '__reversed__',\n",
              " '__rmul__',\n",
              " '__setattr__',\n",
              " '__setitem__',\n",
              " '__sizeof__',\n",
              " '__str__',\n",
              " '__subclasshook__',\n",
              " 'append',\n",
              " 'clear',\n",
              " 'copy',\n",
              " 'count',\n",
              " 'extend',\n",
              " 'index',\n",
              " 'insert',\n",
              " 'pop',\n",
              " 'remove',\n",
              " 'reverse',\n",
              " 'sort']"
            ]
          },
          "metadata": {},
          "execution_count": 39
        }
      ]
    },
    {
      "cell_type": "code",
      "metadata": {
        "colab": {
          "base_uri": "https://localhost:8080/"
        },
        "id": "8cnnJ1YQSfZH",
        "outputId": "e518716a-bd53-4354-aac8-1b667be3ee75"
      },
      "source": [
        "numeros = [4,1,15,8,22,34,50]\n",
        "print(numeros)\n",
        "numeros.append(99)\n",
        "print(numeros)\n",
        "# numeros.clear()\n",
        "numeros = []\n",
        "print(numeros)\n",
        "\n",
        "frutas = [\"uvas\", \"kiwi\", \"manzana\"]\n",
        "copia = frutas\n",
        "print(frutas)\n",
        "print(copia)\n",
        "frutas.append(\"naranja\")\n",
        "print(frutas)\n",
        "print(copia)\n",
        "\n",
        "colores = [\"rojo\", \"azul\", \"blanco\"]\n",
        "copia2 = colores.copy()\n",
        "print(colores)\n",
        "print(copia2)\n",
        "colores.append(\"verde\")\n",
        "print(colores)\n",
        "print(copia2)\n",
        "\n",
        "print(\"numeros de veces que aparece el 15=\" , numeros.count(15))\n",
        "\n",
        "# extend\n",
        "\n",
        "nombres = [\"jose\", \"pedro\", \"karina\"]\n",
        "otrosnombres = [\"josue\", \"diana\", \"dalia\"]\n",
        "\n",
        "print(nombres)\n",
        "print(otrosnombres)\n",
        "nombres = nombres + otrosnombres\n",
        "print(nombres)\n",
        "print(otrosnombres)\n",
        "\n",
        "#lo mismo con el metodo extend\n",
        "otrosnombres.extend([\"jesus\", \"maria\", \"jose\"])\n",
        "print(otrosnombres)\n",
        "print(\"jesus esta en la posicion:\", otrosnombres.index(\"jesus\"))\n",
        "otrosnombres.insert(4, \"espiritu santo\")\n",
        "print(otrosnombres)\n",
        "\n",
        "#pop\n",
        "resultado = otrosnombres.pop()\n",
        "print(otrosnombres)\n",
        "print(resultado)"
      ],
      "execution_count": null,
      "outputs": [
        {
          "output_type": "stream",
          "name": "stdout",
          "text": [
            "[4, 1, 15, 8, 22, 34, 50]\n",
            "[4, 1, 15, 8, 22, 34, 50, 99]\n",
            "[]\n",
            "['uvas', 'kiwi', 'manzana']\n",
            "['uvas', 'kiwi', 'manzana']\n",
            "['uvas', 'kiwi', 'manzana', 'naranja']\n",
            "['uvas', 'kiwi', 'manzana', 'naranja']\n",
            "['rojo', 'azul', 'blanco']\n",
            "['rojo', 'azul', 'blanco']\n",
            "['rojo', 'azul', 'blanco', 'verde']\n",
            "['rojo', 'azul', 'blanco']\n",
            "numeros de veces que aparece el 15= 0\n",
            "['jose', 'pedro', 'karina']\n",
            "['josue', 'diana', 'dalia']\n",
            "['jose', 'pedro', 'karina', 'josue', 'diana', 'dalia']\n",
            "['josue', 'diana', 'dalia']\n",
            "['josue', 'diana', 'dalia', 'jesus', 'maria', 'jose']\n",
            "jesus esta en la posicion: 3\n",
            "['josue', 'diana', 'dalia', 'jesus', 'espiritu santo', 'maria', 'jose']\n",
            "['josue', 'diana', 'dalia', 'jesus', 'espiritu santo', 'maria']\n",
            "jose\n"
          ]
        }
      ]
    },
    {
      "cell_type": "markdown",
      "metadata": {
        "id": "U_Ah6Wx3wFYW"
      },
      "source": [
        "# Clase del 9 de noviembre de 2021\n",
        "\n",
        "\n",
        "# Tuplas\n",
        "\n",
        "### Caracterisiricas de las tuplas \n",
        "\n",
        "- Datos agrupados.\n",
        "- Se declara usando#\n",
        "    - ()\n",
        "    - Tuple()\n",
        "- Estructura secuencial, indexada a partir de 0.\n",
        "- Pueden tener de 0 a n elementos.\n",
        "- NO SON MUTABLES (No se puede: Eliminar y/o cambiar)\n",
        "- Son buenas para almacenar información.\n",
        "- Pueden almacenar info. de diferentes tipos de dato.\n",
        "- Pueden estar anidadas.\n",
        "- Tienen métodos útiles"
      ]
    },
    {
      "cell_type": "code",
      "metadata": {
        "colab": {
          "base_uri": "https://localhost:8080/"
        },
        "id": "r3l_ZY8vwyQw",
        "outputId": "25309154-0fa6-4eea-d182-014ad7d975ec"
      },
      "source": [
        "info = (\"juan23\", \"dios1234\", \"123.232.1.12\")\n",
        "print( info )\n",
        "print( info[ 1 ] )\n",
        "#info[ 1 ] = \"patito23\"\n",
        "\n",
        "numeros = (0,1,2,3,4,5,6,7,8,9,10,11,12,13,14,15)\n",
        "print( numeros )\n",
        "print(numeros[5:11])\n",
        "\n",
        "cosas = (info , numeros )\n",
        "print( cosas )\n",
        "print( cosas[1][5:11:1] )\n",
        "print( cosas[0][2][4:7] )\n",
        "print( cosas[0][2][-8:-5] )"
      ],
      "execution_count": null,
      "outputs": [
        {
          "output_type": "stream",
          "name": "stdout",
          "text": [
            "('juan23', 'dios1234', '123.232.1.12')\n",
            "dios1234\n",
            "(0, 1, 2, 3, 4, 5, 6, 7, 8, 9, 10, 11, 12, 13, 14, 15)\n",
            "(5, 6, 7, 8, 9, 10)\n",
            "(('juan23', 'dios1234', '123.232.1.12'), (0, 1, 2, 3, 4, 5, 6, 7, 8, 9, 10, 11, 12, 13, 14, 15))\n",
            "(5, 6, 7, 8, 9, 10)\n",
            "232\n",
            "232\n"
          ]
        }
      ]
    },
    {
      "cell_type": "markdown",
      "metadata": {
        "id": "5dnhfZqq0m0w"
      },
      "source": [
        "# Metodos de las tuplas\n",
        "Son los mismos de las listas pero los que no involucren mutabilidad."
      ]
    },
    {
      "cell_type": "code",
      "metadata": {
        "colab": {
          "base_uri": "https://localhost:8080/"
        },
        "id": "DFZ2OsQt0toq",
        "outputId": "88a49018-c795-45f7-e4fa-ba2e92e6dd64"
      },
      "source": [
        "dir(tuple)"
      ],
      "execution_count": null,
      "outputs": [
        {
          "output_type": "execute_result",
          "data": {
            "text/plain": [
              "['__add__',\n",
              " '__class__',\n",
              " '__contains__',\n",
              " '__delattr__',\n",
              " '__dir__',\n",
              " '__doc__',\n",
              " '__eq__',\n",
              " '__format__',\n",
              " '__ge__',\n",
              " '__getattribute__',\n",
              " '__getitem__',\n",
              " '__getnewargs__',\n",
              " '__gt__',\n",
              " '__hash__',\n",
              " '__init__',\n",
              " '__init_subclass__',\n",
              " '__iter__',\n",
              " '__le__',\n",
              " '__len__',\n",
              " '__lt__',\n",
              " '__mul__',\n",
              " '__ne__',\n",
              " '__new__',\n",
              " '__reduce__',\n",
              " '__reduce_ex__',\n",
              " '__repr__',\n",
              " '__rmul__',\n",
              " '__setattr__',\n",
              " '__sizeof__',\n",
              " '__str__',\n",
              " '__subclasshook__',\n",
              " 'count',\n",
              " 'index']"
            ]
          },
          "metadata": {},
          "execution_count": 19
        }
      ]
    },
    {
      "cell_type": "markdown",
      "metadata": {
        "id": "k86DKC5e3QAw"
      },
      "source": [
        "# Diccionario \n",
        "### Caracteristicas de los diccionarios\n",
        "\n",
        "- Agrupan datos pero de forma no lineal.\n",
        "- Se declara con:\n",
        "    - {}\n",
        "    - dict()\n",
        "- Formado por pares del tipo llave: valor, donde:\n",
        "    - Llave es de tipo string (siempre) \n",
        "    - valor puede ser de cualquier tipo de datos. incluyendo los diccionarios\n",
        "- Se seleccionan con la llave de la forma: [\"id_llave\"]\n",
        "- Son mutables\n",
        "- Son anidables\n",
        "- Son equivalentes al tipo de dato JSON del lenguaje JavaScript (JS)"
      ]
    },
    {
      "cell_type": "code",
      "metadata": {
        "colab": {
          "base_uri": "https://localhost:8080/"
        },
        "id": "SE4QehHI3O8k",
        "outputId": "17d2f6d8-756e-4242-b6c8-d7d5963a655c"
      },
      "source": [
        "alumno = {\"nombre\" : \"José\"}\n",
        "print(alumno)\n",
        "print( alumno[\"nombre\"])\n",
        "alumno = {\"nombre\":\"José\", \"nc\":\"2129229292\", \"edad\": 18 }\n",
        "print(\"Edad del alumno = \", alumno[\"edad\"])\n",
        "print(alumno[\"nombre\"].upper())\n",
        "print(alumno)\n",
        "\n",
        "print(\"alumno2:\")\n",
        "alumno2 = dict()  # { }\n",
        "alumno2[\"nombre\"] = \"José\"\n",
        "print(alumno2)\n",
        "alumno2[\"nc\"] = \"2129229292\"\n",
        "alumno2[\"edad\"] = 18\n",
        "print(alumno2)\n",
        "alumno2[\"edad\"] = alumno2[\"edad\"] + 1\n",
        "print(alumno2)"
      ],
      "execution_count": null,
      "outputs": [
        {
          "output_type": "stream",
          "name": "stdout",
          "text": [
            "{'nombre': 'José'}\n",
            "José\n",
            "Edad del alumno =  18\n",
            "JOSÉ\n",
            "{'nombre': 'José', 'nc': '2129229292', 'edad': 18}\n",
            "alumno2:\n",
            "{'nombre': 'José'}\n",
            "{'nombre': 'José', 'nc': '2129229292', 'edad': 18}\n",
            "{'nombre': 'José', 'nc': '2129229292', 'edad': 19}\n"
          ]
        }
      ]
    },
    {
      "cell_type": "code",
      "metadata": {
        "colab": {
          "base_uri": "https://localhost:8080/"
        },
        "id": "zbDas2XC8XpD",
        "outputId": "91d7c28c-63c1-4483-922a-a37d772774f5"
      },
      "source": [
        "cliente = { \"id\":\"CT2121\",\n",
        "           \"nombre\" : \"José Pedroza Rosales\" ,\n",
        "           \"telefono\" : \"casa=55445665 cel=0445567767\" }\n",
        "\n",
        "print(cliente)\n",
        "cliente = { \"id\":\"CT2121\" ,\n",
        "           \"nombre\" : {\n",
        "               \"nombres\" : [\"José\", \"Eduardo\"] ,\n",
        "               \"paterno\" : \"Pedroza\",\n",
        "               \"materno\" : \"Rosales\"\n",
        "           } ,\n",
        "           \"telefonos\" :{\n",
        "               \"casa\" : \"5566324234\",\n",
        "               \"trabajo\":\"554433232\" ,\n",
        "               \"celular\":\"04455234234\"\n",
        "           } ,\n",
        "           \"productos\":{\n",
        "               \"ahorro\":{ \"numero_cuenta\":\"7788\" , \"ahorro\": 2500.5 },\n",
        "               \"tarjetas\": [\n",
        "                           {\"tipo\":\"debito\", \"saldo\" : 10000.5 },\n",
        "                           {\"tipo\":\"credito preferente\",\"limite\" : 250000.5},\n",
        "                           {\"tipo\":\"lite\" , \"limite\": 15000.5}\n",
        "                ]\n",
        "               },\n",
        "              \"direccion\":{\n",
        "                  \"calle\":\"Av. Central\",\n",
        "                  \"numero\" : 1245,\n",
        "                  \"colonia\" :\"impulsora\",\n",
        "                  \"delegación\" : \"neza\",\n",
        "                  \"estado\" : {\n",
        "                              \"clave\" : 15,\n",
        "                              \"nombre_corto\": \"EdoMex\",\n",
        "                              \"nombre\": \"Estado de México\"\n",
        "                  }\n",
        "              }\n",
        "\n",
        "          }\n",
        "print( cliente[\"telefonos\"][\"casa\"] )\n",
        "print(cliente)\n",
        "print(cliente[\"productos\"][\"ahorro\"][\"ahorro\"])\n",
        "print(cliente[\"productos\"][\"tarjetas\"][2][\"limite\"])\n",
        "print(cliente[\"direccion\"][\"estado\"][\"nombre\"].upper())\n",
        "cliente[\"productos\"][\"ahorro\"][\"ahorro\"] -= 1500.0\n",
        "print(cliente[\"productos\"])"
      ],
      "execution_count": null,
      "outputs": [
        {
          "output_type": "stream",
          "name": "stdout",
          "text": [
            "{'id': 'CT2121', 'nombre': 'José Pedroza Rosales', 'telefono': 'casa=55445665 cel=0445567767'}\n",
            "5566324234\n",
            "{'id': 'CT2121', 'nombre': {'nombres': ['José', 'Eduardo'], 'paterno': 'Pedroza', 'materno': 'Rosales'}, 'telefonos': {'casa': '5566324234', 'trabajo': '554433232', 'celular': '04455234234'}, 'productos': {'ahorro': {'numero_cuenta': '7788', 'ahorro': 2500.5}, 'tarjetas': [{'tipo': 'debito', 'saldo': 10000.5}, {'tipo': 'credito preferente', 'limite': 250000.5}, {'tipo': 'lite', 'limite': 15000.5}]}, 'direccion': {'calle': 'Av. Central', 'numero': 1245, 'colonia': 'impulsora', 'delegación': 'neza', 'estado': {'clave': 15, 'nombre_corto': 'EdoMex', 'nombre': 'Estado de México'}}}\n",
            "2500.5\n",
            "15000.5\n",
            "ESTADO DE MÉXICO\n",
            "{'ahorro': {'numero_cuenta': '7788', 'ahorro': 1000.5}, 'tarjetas': [{'tipo': 'debito', 'saldo': 10000.5}, {'tipo': 'credito preferente', 'limite': 250000.5}, {'tipo': 'lite', 'limite': 15000.5}]}\n"
          ]
        }
      ]
    },
    {
      "cell_type": "markdown",
      "metadata": {
        "id": "SqE8OQDHNC63"
      },
      "source": [
        "# Clase del 11 de Noviembre de 2021\n",
        "# Estrucutura de control de programación\n",
        "\n",
        "Se puede crear cualquier tipo de algoritmo empleado solamente 3 estructuras de control:\n",
        "\n",
        "1. Secuencia:\n",
        "    - La representación de la memoria de programa (Arquitectura Vonn Newman)\n",
        "    \n",
        "2. Selección:\n",
        "    - Es la estructura de control que decide si un bloque de programa se ejecuta. También permite seleccionar ejecutar un bloque entre un conjunto de opciones. \n",
        "    En resumen tenemos: Selecion simple, seleccion con bifurcación y selección multiple.\n",
        "\n",
        "3. Repetición:\n",
        "    - Este tipo de estructura nos permite automatizar la ejecución repetitiva de código mientras ciertas condiciones se cumplan, tenemos 3 variantes de esta estrucutura en todos os lenguajes de programación:\n",
        "    - Desde...hasta (estrucutra for)\n",
        "    - Haz mientras (strucutura While)\n",
        "    - Haz y luego validez mientras (estructura Do-While)"
      ]
    },
    {
      "cell_type": "markdown",
      "metadata": {
        "id": "4s49PJbESbvM"
      },
      "source": [
        "# Selección simple\n",
        "\n",
        "-- Docuemntar, o poner notas\n",
        "\n",
        "la estrucutra if\n",
        "\n",
        "```\n",
        "if <condicion> :\n",
        "    <cuerpo del IF>\n",
        "```\n",
        "\n",
        "## Nota Para establecer el cuerpo de una estrucutra \n",
        "En otros lenguajes de programación como java, c y C++... Se usan las llaves { }\n",
        "\n",
        "```\n",
        "int edad = 0\n",
        "printf(\"Dame tu edad\");\n",
        "scanf(\"%i\", &edad );\n",
        "if(edad >= 18){\n",
        "    printf(\"Eres mayor de edad\");\n",
        "}\n",
        "printf(\"Fin de programa\");\n",
        "```"
      ]
    },
    {
      "cell_type": "code",
      "metadata": {
        "colab": {
          "base_uri": "https://localhost:8080/"
        },
        "id": "g-jVKGfoM80i",
        "outputId": "54f3acad-5704-4420-fbe0-b897e4e0fd18"
      },
      "source": [
        "edad = int( input(\"dame tu edad: \"))\n",
        "print(f\"Tecleaste {edad} años\")\n",
        "if edad >= 18 : \n",
        "   print(\"Eres mayor de edad\")\n",
        "   print(\"algo\")\n",
        "print(\"Otra cosa\")\n",
        "print(\"Fin de programa\")"
      ],
      "execution_count": null,
      "outputs": [
        {
          "output_type": "stream",
          "name": "stdout",
          "text": [
            "dame tu edad: 16\n",
            "Tecleaste 16 años\n",
            "Otra cosa\n",
            "Fin de programa\n"
          ]
        }
      ]
    },
    {
      "cell_type": "code",
      "metadata": {
        "colab": {
          "base_uri": "https://localhost:8080/"
        },
        "id": "HGI5q9xOWcIY",
        "outputId": "1323cea4-c0db-46f0-c9d6-5663bc36d4b0"
      },
      "source": [
        "CAL = float( input(\"Dame tu calificación: \"))\n",
        "if CAL > 8 :\n",
        "  print(\"aprobado\")\n",
        "print(\"fin del programa\")"
      ],
      "execution_count": null,
      "outputs": [
        {
          "output_type": "stream",
          "name": "stdout",
          "text": [
            "Dame tu calificación: 8.99\n",
            "aprobado\n",
            "fin del programa\n"
          ]
        }
      ]
    },
    {
      "cell_type": "code",
      "metadata": {
        "colab": {
          "base_uri": "https://localhost:8080/"
        },
        "id": "LjRY57B7XlQC",
        "outputId": "c90e8b53-53b2-4372-f9e3-6e1b2f469214"
      },
      "source": [
        "SUE = float(input(\"Dame tu sueldo: \"))\n",
        "AUM = 0\n",
        "MSUE = 0\n",
        "\n",
        "if  SUE < 1000 : \n",
        "  AUM = SUE*0.15\n",
        "  MSUE = SUE + AUM\n",
        "print(MSUE)"
      ],
      "execution_count": null,
      "outputs": [
        {
          "output_type": "stream",
          "name": "stdout",
          "text": [
            "Dame tu sueldo: 999.99\n",
            "1149.9885\n"
          ]
        }
      ]
    },
    {
      "cell_type": "markdown",
      "metadata": {
        "id": "VRAP9Xq_GruA"
      },
      "source": [
        "# Clase del 18 de noviembre de 2021\n",
        "# Estructura \n",
        "Esta estrucutura, seleciona una de dos opciones de ejecución, se ejecuta un bloque si la condición se cumple o se ejecuta otro bloque si la condición no se cumple(else).\n",
        "```\n",
        "\n",
        "if <condición>: \n",
        "    <bloque de ejecución>\n",
        "else:\n",
        "    <bloque de ejecución alterno>\n",
        "\n",
        "```\n"
      ]
    },
    {
      "cell_type": "code",
      "metadata": {
        "colab": {
          "base_uri": "https://localhost:8080/"
        },
        "id": "r6v1egMHH5MH",
        "outputId": "e1678802-8f78-4db1-fe0e-35caad8f6ab0"
      },
      "source": [
        "edad = int(input(\"dame tu edad: \"))\n",
        "print(f\"Tecleaste {edad} años\")\n",
        "if edad >= 18:\n",
        "    print(\"Eres mayor de edad, ten tú cheve\")\n",
        "else:\n",
        "    print(\"Eres menor de edad, ten tú Boing de mango\" )\n",
        "print(\"fin del programa\")"
      ],
      "execution_count": 7,
      "outputs": [
        {
          "output_type": "stream",
          "name": "stdout",
          "text": [
            "dame tu edad: 15\n",
            "Tecleaste 15 años\n",
            "Eres menor de edad, ten tú Boing de mango\n",
            "fin del programa\n"
          ]
        }
      ]
    },
    {
      "cell_type": "code",
      "metadata": {
        "colab": {
          "base_uri": "https://localhost:8080/"
        },
        "id": "bIXPLOT7JKN0",
        "outputId": "955898b5-dae3-4d10-db85-daa6ad6c2498"
      },
      "source": [
        "edad = int(input(\"dame tu edad: \"))\n",
        "dinero = float(input(\"¿Cuanto dinero tienes?\"))\n",
        "print(f\"Tecleaste {edad} años\")\n",
        "print(f\"tecleaste {dinero} pesos\")\n",
        "if edad >= 18 and dinero >= 36:\n",
        "    print(\"Eres mayor de edad, ten tú cheve\")\n",
        "else:\n",
        "    print(\"Eres menor de edad, ten tú Boing de mango\" )\n",
        "print(\"fin del programa\")"
      ],
      "execution_count": 10,
      "outputs": [
        {
          "output_type": "stream",
          "name": "stdout",
          "text": [
            "dame tu edad: 15\n",
            "¿Cuanto dinero tienes?15\n",
            "Tecleaste 15 años\n",
            "tecleaste 15.0 pesos\n",
            "Eres menor de edad, ten tú Boing de mango\n",
            "fin del programa\n"
          ]
        }
      ]
    },
    {
      "cell_type": "code",
      "metadata": {
        "colab": {
          "base_uri": "https://localhost:8080/"
        },
        "id": "s7H8mokFNyxk",
        "outputId": "77c423dc-a9fb-46c2-cb89-51bae55264e7"
      },
      "source": [
        "edad = int(input(\"Dame tu edad: \"))\n",
        "dinero = float(input(\"Cuanto dinero tienes: \"))\n",
        "print(f\"Tecleaste {edad} años\")\n",
        "print(f\"Tecleaste {dinero} dinero\")\n",
        "if edad >= 18 :\n",
        "    if dinero >=36 :\n",
        "        print(\"Ten tu cheve\")\n",
        "    else:\n",
        "        print(\"tienes la edad pero no tienes dinero suficiente\")\n",
        "elif dinero >= 36 :\n",
        "    print(\"Tienes dinero suficiente pero no tienes la edad\")\n",
        "else:\n",
        "    print(\"No tienes la edad ni el dinero, ve a jugar roblox a tu casa\")"
      ],
      "execution_count": 11,
      "outputs": [
        {
          "output_type": "stream",
          "name": "stdout",
          "text": [
            "Dame tu edad: 15\n",
            "Cuanto dinero tienes: 50\n",
            "Tecleaste 15 años\n",
            "Tecleaste 50.0 dinero\n",
            "Tienes dinero suficiente pero no tienes la edad\n"
          ]
        }
      ]
    },
    {
      "cell_type": "markdown",
      "metadata": {
        "id": "xhU2Uk52M7fF"
      },
      "source": [
        "El condigo anterior se puede simplificar usando"
      ]
    },
    {
      "cell_type": "code",
      "metadata": {
        "colab": {
          "base_uri": "https://localhost:8080/"
        },
        "id": "43bYm76wO25o",
        "outputId": "892e51b4-74c7-4041-9ef0-b317b3ac76ce"
      },
      "source": [
        "CAL = float(input(\"escribe tu calificación\"))\n",
        "if CAL >= 8:\n",
        "    print(f\"Estas aprobado\")\n",
        "    \n",
        "else: \n",
        "    print(\"Estas reprobado\")"
      ],
      "execution_count": 14,
      "outputs": [
        {
          "output_type": "stream",
          "name": "stdout",
          "text": [
            "escribe tu calificación7\n",
            "Estas reprobado\n"
          ]
        }
      ]
    },
    {
      "cell_type": "code",
      "metadata": {
        "colab": {
          "base_uri": "https://localhost:8080/"
        },
        "id": "ay88q8jMPuEI",
        "outputId": "45b60433-0605-47f1-8600-0caf6395c9e3"
      },
      "source": [
        "# Ejemplo 2.4\n",
        "SUE = float(input(\"Escribe el sueldo: \"))\n",
        "AUM = 0\n",
        "NSUE = 0\n",
        "\n",
        "if SUE < 1000 : \n",
        "    AUM = SUE* 0.15\n",
        "    NSUE = SUE + AUM\n",
        "    print(NSUE)\n",
        "else:\n",
        "    AUM = SUE* 0.12\n",
        "    NSUE = SUE + AUM\n",
        "print(NSUE)"
      ],
      "execution_count": 18,
      "outputs": [
        {
          "output_type": "stream",
          "name": "stdout",
          "text": [
            "Escribe el sueldo: 1000\n",
            "1120.0\n"
          ]
        }
      ]
    },
    {
      "cell_type": "code",
      "metadata": {
        "colab": {
          "base_uri": "https://localhost:8080/"
        },
        "id": "BeanhdPMRSzm",
        "outputId": "513845ed-3a1b-450f-b722-465548dbac8e"
      },
      "source": [
        "# Problema 2.4\n",
        "SUE=float(input(\"Dame tu sueldo: \"))\n",
        "if SUE<1000:\n",
        "    NSUE=SUE*1.15\n",
        "else:\n",
        "    NSUE=SUE*1.12\n",
        "print(f\"Tu nuevo sueldo es: {NSUE}\")"
      ],
      "execution_count": 19,
      "outputs": [
        {
          "output_type": "stream",
          "name": "stdout",
          "text": [
            "Dame tu sueldo: 900\n",
            "Tu nuevo sueldo es: 1035.0\n"
          ]
        }
      ]
    },
    {
      "cell_type": "markdown",
      "metadata": {
        "id": "QJi5bwaNSDcF"
      },
      "source": [
        "# Ejercicio  if-else\n",
        "### Hacer un rpgrama que solicite el dia de la semana en un valor numerico entero del 1 al 7 (Avisarle al usuario si proporciono un valor fuera del rango)\n",
        "\n",
        "### Posteriormente imprimira el dia de la semana correspondiente al numero capturado\n",
        "\n",
        "1. lunes\n",
        "2. martes\n",
        "...\n",
        "7. domingo"
      ]
    },
    {
      "cell_type": "code",
      "metadata": {
        "colab": {
          "base_uri": "https://localhost:8080/"
        },
        "id": "hFmuoFvwSCR6",
        "outputId": "7e391916-7ef4-4c98-b6a2-439cdbfdfdfa"
      },
      "source": [
        "dia=int(input(\"Dame el día de la semana del 1-7: \"))\n",
        "if dia is 1:\n",
        "    print(\"LUNES\")\n",
        "elif dia is 2:\n",
        "    print(\"MARTES\")\n",
        "elif dia is 3:\n",
        "    print(\"MIERCOLES\")\n",
        "elif dia is 4:\n",
        "    print(\"JUEVES\")\n",
        "elif dia is 5:\n",
        "    print(\"VIERNES\")\n",
        "elif dia is 6:\n",
        "    print(\"SÁBADO\")\n",
        "elif dia is 7:\n",
        "    print(\"DOMINGO\")\n",
        "else:\n",
        "    print(\"Debe ser un numero del 1 al 7, ingresa nuevamente\")"
      ],
      "execution_count": 28,
      "outputs": [
        {
          "output_type": "stream",
          "name": "stdout",
          "text": [
            "Dame el día de la semana del 1-7: 8\n",
            "Debe ser un numero del 1 al 7, ingresa nuevamente\n"
          ]
        }
      ]
    },
    {
      "cell_type": "code",
      "metadata": {
        "colab": {
          "base_uri": "https://localhost:8080/"
        },
        "id": "GVtLOvi4Uv2r",
        "outputId": "56d4cd2b-d61a-4d9d-fdf7-b0bf5f03fecc"
      },
      "source": [
        "dia = int ( input( \"Ingresa un numero entre 1 y 7: \" ))\n",
        "print(f\"capturaste el numero { dia }\")\n",
        "\n",
        "if dia >= 1 and dia <= 7 :\n",
        "    if dia == 1:\n",
        "        print(\"lunes\")\n",
        "    else:\n",
        "        if dia == 2:\n",
        "            print(\"Marte\")\n",
        "        else: \n",
        "            if dia == 3:\n",
        "                print(\"Miércoles\")\n",
        "            else:\n",
        "                if dia == 4:\n",
        "                    print(\"Jueves\")\n",
        "                else: \n",
        "                    if dia == 5:\n",
        "                        print(\"Viernes\")\n",
        "                    else:\n",
        "                        if dia == 6:\n",
        "                            print(\"sábado\")\n",
        "                        else: \n",
        "                            print(\"domingo\")\n",
        "else: \n",
        "    print(\"Ese numero no esta dentro del rango solicitado\")"
      ],
      "execution_count": 31,
      "outputs": [
        {
          "output_type": "stream",
          "name": "stdout",
          "text": [
            "Ingresa un numero entre 1 y 7: 8\n",
            "capturaste el numero 8\n",
            "Ese numero no esta dentro del rango solicitado\n"
          ]
        }
      ]
    },
    {
      "cell_type": "code",
      "metadata": {
        "id": "Q1HoNMIeaAMC"
      },
      "source": [
        "# Hacer un programa que pida dos numeros enteros y que imprima en pantalla lo siguiente:\n",
        "\n",
        "1. cual de ellos es el numero mayor\n",
        "2. cual de ellso es el numero menor\n",
        " o en su defecto\n",
        "Imprimir que valores son iguales\n",
        "\n",
        "\"\"\" Hacer un programa que solicite 3 numeros enteros diferentes \n",
        "entre sí y que imprima cual de los 3 es el mayor\n",
        "\"\"\"\n",
        "\n",
        "\"\"\"\n",
        "Hacer un programa que solicite 3 numeros enteros diferentes\n",
        "entre sí y que imprima cual de los 3 es el menor\n",
        "\"\"\"\n",
        "\n",
        "\"\"\"\n",
        "Hacer un programa que solicite 4 numeros enteros diferentes entre si\n",
        "e imprima a la salida cual de ellos es el menor y cual de ellos es el mayor\n",
        "\"\"\""
      ],
      "execution_count": null,
      "outputs": []
    },
    {
      "cell_type": "markdown",
      "metadata": {
        "id": "yyXeqGI-bStd"
      },
      "source": [
        "# Selección multiple (switch)\n",
        "En python no existe la estrucuta de selección switch, en su lugar se emplea la palabra reservada:\n",
        "\n",
        "## Elif <condición>:\n",
        "\n",
        "Por ejemplo en el lenguaje C y Java sería de la forma:\n",
        "```\n",
        "\n",
        "```\n"
      ]
    },
    {
      "cell_type": "code",
      "metadata": {
        "colab": {
          "base_uri": "https://localhost:8080/"
        },
        "id": "XkHdmHancxN8",
        "outputId": "ac087072-ead6-4617-8094-12e24b574ddf"
      },
      "source": [
        "# Ejemplo 2.7\n",
        "\n",
        "NUM = int(input(\"dame un numero un numero entre 1 y 3: \"))\n",
        "V = float(input(\"Dame un valor float: \"))\n",
        "VAL = 0\n",
        "if NUM == 1:\n",
        "    VAL = 100 * V\n",
        "elif NUM == 2: \n",
        "    VAL = 100 ** V\n",
        "elif NUM == 3:\n",
        "    VAL = 100/VAL\n",
        "else:\n",
        "    Val = 0\n",
        "\n",
        "print(VAL)"
      ],
      "execution_count": 33,
      "outputs": [
        {
          "output_type": "stream",
          "name": "stdout",
          "text": [
            "dame un numero un numero entre 1 y 3: 2\n",
            "Dame un valor float: 5\n",
            "10000000000.0\n"
          ]
        }
      ]
    }
  ]
}