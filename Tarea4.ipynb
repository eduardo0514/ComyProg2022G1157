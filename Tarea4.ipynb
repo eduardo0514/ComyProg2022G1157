{
  "nbformat": 4,
  "nbformat_minor": 0,
  "metadata": {
    "colab": {
      "name": "Tarea4.ipynb",
      "provenance": [],
      "authorship_tag": "ABX9TyOUHl9VBDmR2V2CrmZGtb3u",
      "include_colab_link": true
    },
    "kernelspec": {
      "name": "python3",
      "display_name": "Python 3"
    },
    "language_info": {
      "name": "python"
    }
  },
  "cells": [
    {
      "cell_type": "markdown",
      "metadata": {
        "id": "view-in-github",
        "colab_type": "text"
      },
      "source": [
        "<a href=\"https://colab.research.google.com/github/eduardo0514/ComyProg2022G1157/blob/main/Tarea4.ipynb\" target=\"_parent\"><img src=\"https://colab.research.google.com/assets/colab-badge.svg\" alt=\"Open In Colab\"/></a>"
      ]
    },
    {
      "cell_type": "code",
      "metadata": {
        "colab": {
          "base_uri": "https://localhost:8080/"
        },
        "id": "23M26_zo4FnH",
        "outputId": "98c77643-e448-4788-e6b0-eabc57b21934"
      },
      "source": [
        "Primera = \"\"\"\n",
        "  E E E\n",
        "  E\n",
        "  E E\n",
        "  E\n",
        "  E E E\n",
        "\"\"\"\n",
        "\n",
        "Segunda = \"\"\"\n",
        "  D D D\n",
        "  D    D\n",
        "  D    D\n",
        "  D    D\n",
        "  D D D\n",
        "\"\"\"\n",
        "\n",
        "Tercera = \"\"\"\n",
        "  U     U\n",
        "  U     U \n",
        "  U     U \n",
        "  U     U\n",
        "  U U U U\n",
        "\"\"\"\n",
        "\n",
        "Cuarta = \"\"\"\n",
        "     A\n",
        "    A A\n",
        "   AAAAA\n",
        "  A     A\n",
        " A       A\n",
        "\"\"\"\n",
        "\n",
        "Quinta = \"\"\"\n",
        "  R R R\n",
        "  R   R \n",
        "  R R\n",
        "  R   R\n",
        "  R    R\n",
        "\"\"\"\n",
        "\n",
        "Sexta = \"\"\"\n",
        "  D D D\n",
        "  D    D\n",
        "  D    D\n",
        "  D    D\n",
        "  D D D\n",
        "\"\"\"\n",
        "\n",
        "Septima = \"\"\"\n",
        "  O O O\n",
        "  O   O\n",
        "  O   O\n",
        "  O   O\n",
        "  O O O\n",
        "\"\"\"\n",
        "\n",
        "print(Primera, Segunda, Tercera, Cuarta, Quinta, Sexta, Septima)"
      ],
      "execution_count": 1,
      "outputs": [
        {
          "output_type": "stream",
          "name": "stdout",
          "text": [
            "\n",
            "  E E E\n",
            "  E\n",
            "  E E\n",
            "  E\n",
            "  E E E\n",
            " \n",
            "  D D D\n",
            "  D    D\n",
            "  D    D\n",
            "  D    D\n",
            "  D D D\n",
            " \n",
            "  U     U\n",
            "  U     U \n",
            "  U     U \n",
            "  U     U\n",
            "  U U U U\n",
            " \n",
            "     A\n",
            "    A A\n",
            "   AAAAA\n",
            "  A     A\n",
            " A       A\n",
            " \n",
            "  R R R\n",
            "  R   R \n",
            "  R R\n",
            "  R   R\n",
            "  R    R\n",
            " \n",
            "  D D D\n",
            "  D    D\n",
            "  D    D\n",
            "  D    D\n",
            "  D D D\n",
            " \n",
            "  O O O\n",
            "  O   O\n",
            "  O   O\n",
            "  O   O\n",
            "  O O O\n",
            "\n"
          ]
        }
      ]
    }
  ]
}