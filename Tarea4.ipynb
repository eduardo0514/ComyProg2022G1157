{
  "nbformat": 4,
  "nbformat_minor": 0,
  "metadata": {
    "colab": {
      "name": "Tarea4.ipynb",
      "provenance": [],
      "authorship_tag": "ABX9TyPaB9Xdb0f+Lm9rG3fOTf0i",
      "include_colab_link": true
    },
    "kernelspec": {
      "name": "python3",
      "display_name": "Python 3"
    },
    "language_info": {
      "name": "python"
    }
  },
  "cells": [
    {
      "cell_type": "markdown",
      "metadata": {
        "id": "view-in-github",
        "colab_type": "text"
      },
      "source": [
        "<a href=\"https://colab.research.google.com/github/eduardo0514/ComyProg2022G1157/blob/main/Tarea4.ipynb\" target=\"_parent\"><img src=\"https://colab.research.google.com/assets/colab-badge.svg\" alt=\"Open In Colab\"/></a>"
      ]
    },
    {
      "cell_type": "code",
      "metadata": {
        "colab": {
          "base_uri": "https://localhost:8080/"
        },
        "id": "23M26_zo4FnH",
        "outputId": "e2551719-3e5e-4995-f4ab-2a83deda8b38"
      },
      "source": [
        "Primera = \"\"\"\n",
        "  E E E\n",
        "  E\n",
        "  E E\n",
        "  E\n",
        "  E E E\n",
        "\"\"\"\n",
        "\n",
        "Segunda = \"\"\"\n",
        "  D D D\n",
        "  D    D\n",
        "  D    D\n",
        "  D    D\n",
        "  D D D\n",
        "\"\"\"\n",
        "\n",
        "Tercera = \"\"\"\n",
        "  U     U\n",
        "  U     U \n",
        "  U     U \n",
        "  U     U\n",
        "  U U U U\n",
        "\"\"\"\n",
        "\n",
        "Cuarta = \"\"\"\n",
        "     A\n",
        "    A A\n",
        "   AAAAA\n",
        "  A     A\n",
        " A       A\n",
        "\"\"\"\n",
        "\n",
        "Quinta = \"\"\"\n",
        "   R R R\n",
        "   R   R \n",
        "   R R\n",
        "   R   R\n",
        "   R    R\n",
        "\"\"\"\n",
        "\n",
        "Sexta = \"\"\"\n",
        "  D D D\n",
        "  D    D\n",
        "  D    D\n",
        "  D    D\n",
        "  D D D\n",
        "\"\"\"\n",
        "\n",
        "Septima = \"\"\"\n",
        "  O O O\n",
        "  O   O\n",
        "  O   O\n",
        "  O   O\n",
        "  O O O\n",
        "\"\"\"\n",
        "\n",
        "print(Primera, Segunda, Tercera, Cuarta, Quinta, Sexta, Septima)"
      ],
      "execution_count": 3,
      "outputs": [
        {
          "output_type": "stream",
          "name": "stdout",
          "text": [
            "\n",
            "  E E E\n",
            "  E\n",
            "  E E\n",
            "  E\n",
            "  E E E\n",
            " \n",
            "  D D D\n",
            "  D    D\n",
            "  D    D\n",
            "  D    D\n",
            "  D D D\n",
            " \n",
            "  U     U\n",
            "  U     U \n",
            "  U     U \n",
            "  U     U\n",
            "  U U U U\n",
            " \n",
            "     A\n",
            "    A A\n",
            "   AAAAA\n",
            "  A     A\n",
            " A       A\n",
            " \n",
            "   R R R\n",
            "   R   R \n",
            "   R R\n",
            "   R   R\n",
            "   R    R\n",
            " \n",
            "  D D D\n",
            "  D    D\n",
            "  D    D\n",
            "  D    D\n",
            "  D D D\n",
            " \n",
            "  O O O\n",
            "  O   O\n",
            "  O   O\n",
            "  O   O\n",
            "  O O O\n",
            "\n"
          ]
        }
      ]
    }
  ]
}