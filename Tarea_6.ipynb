{
  "nbformat": 4,
  "nbformat_minor": 0,
  "metadata": {
    "colab": {
      "name": "Tarea 6.ipynb",
      "provenance": [],
      "collapsed_sections": [],
      "authorship_tag": "ABX9TyNLWYZJVd96geTgBiJ5m2W3",
      "include_colab_link": true
    },
    "kernelspec": {
      "name": "python3",
      "display_name": "Python 3"
    },
    "language_info": {
      "name": "python"
    }
  },
  "cells": [
    {
      "cell_type": "markdown",
      "metadata": {
        "id": "view-in-github",
        "colab_type": "text"
      },
      "source": [
        "<a href=\"https://colab.research.google.com/github/eduardo0514/ComyProg2022G1157/blob/main/Tarea_6.ipynb\" target=\"_parent\"><img src=\"https://colab.research.google.com/assets/colab-badge.svg\" alt=\"Open In Colab\"/></a>"
      ]
    },
    {
      "cell_type": "markdown",
      "metadata": {
        "id": "3X1E_M-SxK7E"
      },
      "source": [
        "# Problema 2.1"
      ]
    },
    {
      "cell_type": "code",
      "metadata": {
        "colab": {
          "base_uri": "https://localhost:8080/"
        },
        "id": "xqmuK2eZtH45",
        "outputId": "776e42ee-7075-4a48-def3-c8e9cd7b747b"
      },
      "source": [
        "N = int(input(\"Ingresa un numero: \"))\n",
        "if N > 0:\n",
        "    T = N/4 + 40;\n",
        "    print(\"Temperatura\", T)\n",
        "print(\"Fin del programa\")"
      ],
      "execution_count": null,
      "outputs": [
        {
          "output_type": "stream",
          "name": "stdout",
          "text": [
            "Ingresa un numero: 8\n",
            "Temperatura 42.0\n",
            "Fin del programa\n"
          ]
        }
      ]
    },
    {
      "cell_type": "markdown",
      "metadata": {
        "id": "xtEocCM3yjYs"
      },
      "source": [
        "# Problema 2.2"
      ]
    },
    {
      "cell_type": "code",
      "metadata": {
        "colab": {
          "base_uri": "https://localhost:8080/"
        },
        "id": "uR9IpXZayv_E",
        "outputId": "01c9833c-ad1d-40ef-a115-cf933fe3a9a3"
      },
      "source": [
        "P = int(input(\"Ingresar un numero: \"))\n",
        "Q = int(input(\"Ingresar un numero: \"))\n",
        "EXP = P**3 + Q**4 - 2*P**2;\n",
        "print(EXP)\n",
        "if EXP < 680:\n",
        "    print(P)\n",
        "    print(Q)\n",
        "print(\"Fin del programa\")"
      ],
      "execution_count": null,
      "outputs": [
        {
          "output_type": "stream",
          "name": "stdout",
          "text": [
            "Ingresar un numero: 6\n",
            "Ingresar un numero: 8\n",
            "4240\n",
            "Fin del programa\n"
          ]
        }
      ]
    },
    {
      "cell_type": "markdown",
      "metadata": {
        "id": "TDZgyFT4-WMu"
      },
      "source": [
        "# Programa 2.3"
      ]
    },
    {
      "cell_type": "code",
      "metadata": {
        "id": "XB9fWcrq-pn7",
        "colab": {
          "base_uri": "https://localhost:8080/"
        },
        "outputId": "316d776c-ae39-4161-ba54-b402d602c7d8"
      },
      "source": [
        "A = float(input(\"Dame un valor real: \"))\n",
        "B = float(input(\"Dame otro valor real: \"))\n",
        "C = float(input(\"Dame otro valor real: \"))\n",
        "\n",
        "DIS = B**2-(4*A*C)\n",
        "if DIS >= 0:\n",
        "\n",
        " print(DIS)\n",
        "\n",
        " X1 = ((-B) + DIS**0.5) / (2*A)\n",
        " X2 = ((-B) - DIS**0.5) / (2*A)\n",
        "\n",
        " print(f\"{X1} Raiz real\")\n",
        " print(f\"{X2} Raiz real\")\n",
        "\n",
        "else:\n",
        "    print(\"Fin del programa\")\n"
      ],
      "execution_count": null,
      "outputs": [
        {
          "output_type": "stream",
          "name": "stdout",
          "text": [
            "Dame un valor real: 2.5\n",
            "Dame otro valor real: -6\n",
            "Dame otro valor real: -4\n",
            "76.0\n",
            "2.9435595774162695 Raiz real\n",
            "-0.5435595774162696 Raiz real\n"
          ]
        }
      ]
    },
    {
      "cell_type": "markdown",
      "metadata": {
        "id": "_Ox93cHAEVOP"
      },
      "source": [
        "# Problema 2.4"
      ]
    },
    {
      "cell_type": "code",
      "metadata": {
        "id": "1aiKOaO_ETqN",
        "colab": {
          "base_uri": "https://localhost:8080/"
        },
        "outputId": "cf0fbd28-8881-4160-8766-8b1ef7c29b0b"
      },
      "source": [
        "MAT = int(input(\"Dame tu matricula: \"))\n",
        "CAL1 = float(input(\"Dame tu calificación: \"))\n",
        "CAL2 = float(input(\"Dame tu calificación: \"))\n",
        "CAL3 = float(input(\"Dame tu calificación: \"))\n",
        "CAL4 = float(input(\"Dame tu calificación: \"))\n",
        "CAL5 = float(input(\"Dame tu calificación: \"))\n",
        "\n",
        "PRO = (CAL1 + CAL2 + CAL3 + CAL4 + CAL5) / 5\n",
        "\n",
        "print(f\"Tu promedio es: {PRO}\")\n",
        "\n",
        "if PRO >= 6:\n",
        "    print(f\"{MAT} Estas aprobado\")\n",
        "else:\n",
        "    print(f\"{MAT} Estas reprobado\")\n",
        "\n",
        "print(\"Fin del programa\")"
      ],
      "execution_count": null,
      "outputs": [
        {
          "output_type": "stream",
          "name": "stdout",
          "text": [
            "Dame tu matricula: 16500\n",
            "Dame tu calificación: 6\n",
            "Dame tu calificación: 7.5\n",
            "Dame tu calificación: 8\n",
            "Dame tu calificación: 9.5\n",
            "Dame tu calificación: 7\n",
            "Tu promedio es: 7.6\n",
            "16500 Estas aprobado\n",
            "Fin del programa\n"
          ]
        }
      ]
    },
    {
      "cell_type": "markdown",
      "metadata": {
        "id": "TON7GAFVvlF1"
      },
      "source": [
        "# Problema 2.5"
      ]
    },
    {
      "cell_type": "code",
      "metadata": {
        "colab": {
          "base_uri": "https://localhost:8080/"
        },
        "id": "6PSXpR1wvkmr",
        "outputId": "2980261d-04c5-4757-8c81-932e9e1fb1ae"
      },
      "source": [
        "NUM = int(input(\"Dame un valor: \"))\n",
        "if NUM > 0:\n",
        "    print(\"Positivo\")\n",
        "else: \n",
        "    if NUM == 0:\n",
        "        print(\"Nulo\")\n",
        "    else: \n",
        "            print(\"Negativo\")\n",
        "print(\"Fin del programa\")"
      ],
      "execution_count": null,
      "outputs": [
        {
          "output_type": "stream",
          "name": "stdout",
          "text": [
            "Dame un valor: 5\n",
            "Positivo\n",
            "Fin del programa\n"
          ]
        }
      ]
    },
    {
      "cell_type": "markdown",
      "metadata": {
        "id": "Zo9iNRJI2Tj9"
      },
      "source": [
        "#Problema 2.6"
      ]
    },
    {
      "cell_type": "code",
      "metadata": {
        "colab": {
          "base_uri": "https://localhost:8080/"
        },
        "id": "l8xdkluI2TNU",
        "outputId": "cd3bae05-82e6-4f0d-9495-761928250c89"
      },
      "source": [
        "A = int(input(\"Dame un valor: \"))\n",
        "if A == 0:\n",
        "    print(\"Nulo\")\n",
        "else:\n",
        "    if A%2 == 0:\n",
        "        print(\"Par\")\n",
        "    else:\n",
        "        print(\"Impar\")\n"
      ],
      "execution_count": 30,
      "outputs": [
        {
          "output_type": "stream",
          "name": "stdout",
          "text": [
            "Dame un valor: 11\n",
            "Impar\n"
          ]
        }
      ]
    },
    {
      "cell_type": "markdown",
      "metadata": {
        "id": "hWJZ1Jr7DL_c"
      },
      "source": [
        "#Problema 2.7"
      ]
    },
    {
      "cell_type": "code",
      "metadata": {
        "colab": {
          "base_uri": "https://localhost:8080/"
        },
        "id": "b2AIhw8uDMbX",
        "outputId": "bb02e1af-c40e-4259-9657-b85ced59094f"
      },
      "source": [
        "A = int(input(\"Dame un valor: \"))\n",
        "B = int(input(\"Dame otro valor: \"))\n",
        "C = int(input(\"dame otro valor: \"))\n",
        "\n",
        "if A < B:\n",
        "    if B < C:\n",
        "        print(\"Los numeros estan en orden creciente\")\n",
        "    else:\n",
        "        print(\"Los numeros no estan en orden creciente\")\n",
        "else: \n",
        "    print(\"Los numeros no estan en orden creciente\")"
      ],
      "execution_count": null,
      "outputs": [
        {
          "output_type": "stream",
          "name": "stdout",
          "text": [
            "Dame un valor: 10\n",
            "Dame otro valor: 20\n",
            "dame otro valor: 30\n",
            "Los numeros estan en orden creciente\n"
          ]
        }
      ]
    },
    {
      "cell_type": "markdown",
      "metadata": {
        "id": "T9fWQRORGiGi"
      },
      "source": [
        "# Problema 2.8"
      ]
    },
    {
      "cell_type": "code",
      "metadata": {
        "colab": {
          "base_uri": "https://localhost:8080/"
        },
        "id": "84mq3CI6Giba",
        "outputId": "bcf9be7c-a05a-4a42-974d-50d6a4a3fd01"
      },
      "source": [
        "COMPRA = float(input(\"¿De cuanto fue su compra?: \"))\n",
        "PAGAR = float\n",
        "if COMPRA < 500:\n",
        "    PAGAR = COMPRA\n",
        "else:\n",
        "    if COMPRA <= 1000:\n",
        "        PAGAR = COMPRA - (COMPRA*0.05)\n",
        "    else:\n",
        "        if COMPRA <= 7000:\n",
        "            PAGAR = COMPRA - (COMPRA*0.11)\n",
        "        else:\n",
        "            if COMPRA <= 15000:\n",
        "                PAGAR = COMPRA - (COMPRA*0.18)\n",
        "            else:\n",
        "                PAGAR = COMPRA - (COMPRA*0.25)\n",
        "print(\"De pagar:\", PAGAR)"
      ],
      "execution_count": null,
      "outputs": [
        {
          "output_type": "stream",
          "name": "stdout",
          "text": [
            "¿De cuanto fue su compra?: 25314.18\n",
            "De pagar: 18985.635000000002\n"
          ]
        }
      ]
    },
    {
      "cell_type": "markdown",
      "metadata": {
        "id": "pfAIXQ9AJpht"
      },
      "source": [
        "# Problema 2.9"
      ]
    },
    {
      "cell_type": "code",
      "metadata": {
        "colab": {
          "base_uri": "https://localhost:8080/"
        },
        "id": "LIPra7QgJp0r",
        "outputId": "210c2cba-3791-4a94-8faf-cf45dc940fe6"
      },
      "source": [
        "PREBAS = float(input(\"Ingrese el valor: \"))\n",
        "IMP = float\n",
        "PRETOT = float\n",
        "\n",
        "if PREBAS > 500:\n",
        "    IMP = 20 * .30 + (PREBAS - 40) * .50\n",
        "else:\n",
        "    if PREBAS > 40:\n",
        "        IMP = 20 * .30 + (PREBAS - 40) * .40\n",
        "    else: \n",
        "        if PREBAS > 20:\n",
        "            IMP = 20 * .30 + (PREBAS - 40) * .30\n",
        "        else: \n",
        "            IMP = 0\n",
        "\n",
        "PRETOT = PREBAS + IMP \n",
        "\n",
        "print(\"IMP=\",IMP)\n",
        "print(\"PRETOT=\",PRETOT)\n"
      ],
      "execution_count": null,
      "outputs": [
        {
          "output_type": "stream",
          "name": "stdout",
          "text": [
            "Ingrese el valor: 217.80\n",
            "IMP= 77.12\n",
            "PRETOT= 294.92\n"
          ]
        }
      ]
    },
    {
      "cell_type": "markdown",
      "metadata": {
        "id": "5wlbTQFpR6OE"
      },
      "source": [
        "# Problema 2.10"
      ]
    },
    {
      "cell_type": "code",
      "metadata": {
        "colab": {
          "base_uri": "https://localhost:8080/"
        },
        "id": "8y_98o8LR4xK",
        "outputId": "6607605a-380b-4f90-f475-0644bfd93058"
      },
      "source": [
        "A = float(input(\"Dame un valor: \"))\n",
        "B = float(input(\"Dame otro valor: \"))\n",
        "C = float(input(\"Dame otro valor: \"))\n",
        "\n",
        "if A > B and B > C:\n",
        "    print(\"A es el mayor mayor\")\n",
        "elif A > C and C > B:\n",
        "    print(\"A es el numero mayor\")\n",
        "elif B > A and A > C:\n",
        "    print(\"B es el numero mayor\")\n",
        "elif B > C and C > A:\n",
        "    print(\"B es el numero mayor\")\n",
        "elif C > A and A > B:\n",
        "    print(\"C es el numero mayor\")\n",
        "elif C > B and B > A:\n",
        "    print(\"C es el numero mayor\")\n",
        "elif A == B and B > C:\n",
        "    print(\"A y B son los mayores\")\n",
        "elif A == C and C > B:\n",
        "    print(\"A y C son los mayores\")\n",
        "elif B == C and C > A:\n",
        "    print(\"B y C son los mayores\")\n",
        "elif A == B and B < C:\n",
        "    print(\"C es el mayor\")\n",
        "elif A == C and C < B:\n",
        "    print(\"B es el mayor\")\n",
        "elif B == C and C < A:\n",
        "    print(\"A es el mayor\")\n",
        "elif A == B == C:\n",
        "    print(\"A, B, y C son iguales\")"
      ],
      "execution_count": null,
      "outputs": [
        {
          "output_type": "stream",
          "name": "stdout",
          "text": [
            "Dame un valor: 15\n",
            "Dame otro valor: 22\n",
            "Dame otro valor: 15\n",
            "B es el mayor\n"
          ]
        }
      ]
    },
    {
      "cell_type": "markdown",
      "metadata": {
        "id": "6ewz62r8R4kW"
      },
      "source": [
        "# Problema 2.11"
      ]
    },
    {
      "cell_type": "code",
      "metadata": {
        "colab": {
          "base_uri": "https://localhost:8080/"
        },
        "id": "59Gvg_OeR7tP",
        "outputId": "f11a9da4-3b65-485d-edfb-7c9a3b2d1564"
      },
      "source": [
        "CLAVE = int(input(\"Ingresa la clave de tu zona: \"))\n",
        "NUMIN = int(input(\"Duración: \"))\n",
        "COST = float\n",
        "\n",
        "\n",
        "if CLAVE == 12:\n",
        "    COST = NUMIN*2\n",
        "elif CLAVE == 15:\n",
        "    COST = NUMIN*2.2\n",
        "elif CLAVE == 18:\n",
        "    COST = NUMIN*4.5\n",
        "elif CLAVE == 19:\n",
        "    COST = NUMIN*3.5\n",
        "elif CLAVE == 23:\n",
        "    COST = NUMIN*6\n",
        "elif CLAVE == 25:\n",
        "    COST = NUMIN*6\n",
        "elif CLAVE == 29:\n",
        "    COST = NUMIN*5\n",
        "\n",
        "print(\"El costo es de:\",COST)"
      ],
      "execution_count": null,
      "outputs": [
        {
          "output_type": "stream",
          "name": "stdout",
          "text": [
            "Ingresa la clave de tu zona: 18\n",
            "Duración: 12\n",
            "El costo es de: 54.0\n"
          ]
        }
      ]
    },
    {
      "cell_type": "markdown",
      "metadata": {
        "id": "GWHJJfgNqA3i"
      },
      "source": [
        "#Problema 2.12"
      ]
    },
    {
      "cell_type": "code",
      "metadata": {
        "id": "a3Lhxs7VqBQd",
        "colab": {
          "base_uri": "https://localhost:8080/"
        },
        "outputId": "8e693fd6-e843-4e8e-be74-256bc340f1c5"
      },
      "source": [
        "SUE = float(input(\"Ingresa tu sueldo: \"))\n",
        "CATE = int(input(\"Ingresa tu categoria: \"))\n",
        "HE = int(input(\"ingresa tus horas extras: \"))\n",
        "if CATE == 1:\n",
        "    PHE = 30\n",
        "if CATE == 2:\n",
        "    PHE = 38\n",
        "if CATE == 3:\n",
        "    PHE = 50\n",
        "if CATE == 4:\n",
        "    PHE = 70\n",
        "\n",
        "else:\n",
        "    if CATE > 4:\n",
        "        PHE = 0\n",
        "\n",
        "if HE > 30:\n",
        "    NSUE = SUE + 30*PHE\n",
        "else:\n",
        "    NSUE = SUE + HE*PHE\n",
        "\n",
        "print(\"PHE:\", PHE)\n",
        "print(\"Nuevo sueldo:\", NSUE)\n"
      ],
      "execution_count": 14,
      "outputs": [
        {
          "output_type": "stream",
          "name": "stdout",
          "text": [
            "Ingresa tu sueldo: 2200\n",
            "Ingresa tu categoria: 2\n",
            "ingresa tus horas extras: 38\n",
            "PHE: 38\n",
            "Nuevo sueldo: 3340.0\n"
          ]
        }
      ]
    },
    {
      "cell_type": "markdown",
      "metadata": {
        "id": "bPcE0O1sViB8"
      },
      "source": [
        "# Problema 2.13"
      ]
    },
    {
      "cell_type": "code",
      "metadata": {
        "colab": {
          "base_uri": "https://localhost:8080/"
        },
        "id": "kHtWH2PcViZR",
        "outputId": "9add2aec-24f0-4ed3-ea4f-440f117720ee"
      },
      "source": [
        "MAT = int(input(\"Ingresa tu matricula: \"))\n",
        "CARR = str(input(\"Ingresa la carrera: \"))\n",
        "SEM = int(input(\"Ingresa tu semestre: \"))\n",
        "PROM = float(input(\"Ingresa tu promedio: \"))\n",
        "\n",
        "if CARR == \"Economia\":\n",
        "    if SEM >= 6 and PROM >= 8.8:\n",
        "        print(f\"{MAT}, {CARR},ACEPTADO\")\n",
        "if CARR == \"Computación\":\n",
        "    if SEM > 6 and PROM > 8.5:\n",
        "        print(f\"{MAT}, {CARR}, ACEPTADO\")\n",
        "if CARR == \"Administración\":\n",
        "    if SEM > 5 and PROM > 8.5:\n",
        "        print(f\"{MAT}, {CARR}, ACEPTADO\")\n",
        "if CARR == \"Contabilidad\":\n",
        "    if SEM > 5 and PROM > 8.5:\n",
        "        print(f\"{MAT}, {CARR}, ACEPTADO\")\n"
      ],
      "execution_count": 31,
      "outputs": [
        {
          "output_type": "stream",
          "name": "stdout",
          "text": [
            "Ingresa tu matricula: 25224\n",
            "Ingresa la carrera: Computación\n",
            "Ingresa tu semestre: 8\n",
            "Ingresa tu promedio: 8.7\n",
            "25224, Computación, ACEPTADO\n"
          ]
        }
      ]
    }
  ]
}