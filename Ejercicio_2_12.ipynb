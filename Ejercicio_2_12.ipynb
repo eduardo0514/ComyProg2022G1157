{
  "nbformat": 4,
  "nbformat_minor": 0,
  "metadata": {
    "colab": {
      "name": "Ejercicio 2.12.ipynb",
      "provenance": [],
      "authorship_tag": "ABX9TyOUmzhlDNzqyG2L4OJjhxyk",
      "include_colab_link": true
    },
    "kernelspec": {
      "name": "python3",
      "display_name": "Python 3"
    },
    "language_info": {
      "name": "python"
    }
  },
  "cells": [
    {
      "cell_type": "markdown",
      "metadata": {
        "id": "view-in-github",
        "colab_type": "text"
      },
      "source": [
        "<a href=\"https://colab.research.google.com/github/eduardo0514/ComyProg2022G1157/blob/main/Ejercicio_2_12.ipynb\" target=\"_parent\"><img src=\"https://colab.research.google.com/assets/colab-badge.svg\" alt=\"Open In Colab\"/></a>"
      ]
    },
    {
      "cell_type": "code",
      "metadata": {
        "colab": {
          "base_uri": "https://localhost:8080/"
        },
        "id": "wxjRVDJuPC71",
        "outputId": "cba35b8d-66cf-4646-e95a-c762f327ad15"
      },
      "source": [
        "#ejemplo 2.12\n",
        "A = int(input(\"Introduce un numero entero: \"))\n",
        "B = int(input(\"Introduce otro numero entero: \"))\n",
        "C = int(input(\"Introduce un ultimo numero entero: \"))\n",
        "\n",
        "if A > B:\n",
        "    if A > C:\n",
        "        if B > C:\n",
        "            print(f\"{ A }, { B }, { C }\")\n",
        "        else:  \n",
        "            print(f\"{ A }, { C }, { B }\")\n",
        "    else:\n",
        "        print(f\"{ C }, { A }, { B }\")\n",
        "else:\n",
        "    if B > C:\n",
        "        if A > C:\n",
        "            print(f\"{ B }, { A }, { C }\")\n",
        "        else: \n",
        "            print(f\"{ B }, { C }, { A }\")\n",
        "    else:\n",
        "        print(f\"{ C }, { B }, { A }\")"
      ],
      "execution_count": 1,
      "outputs": [
        {
          "output_type": "stream",
          "name": "stdout",
          "text": [
            "Introduce un numero entero: 40\n",
            "Introduce otro numero entero: 76\n",
            "Introduce un ultimo numero entero: 50\n",
            "76, 50, 40\n"
          ]
        }
      ]
    }
  ]
}